{
 "cells": [
  {
   "cell_type": "code",
   "execution_count": 1,
   "metadata": {},
   "outputs": [],
   "source": [
    "import pandas as pd\n",
    "import matplotlib.pyplot as plt\n",
    "import numpy as np\n",
    "import statsmodels.api as sm\n",
    "import statsmodels.formula.api as smf\n",
    "import datetime as dt\n",
    "import seaborn as sns\n",
    "import scipy.stats as st\n",
    "import scipy\n",
    "from scipy.stats import chi2_contingency\n",
    "from functions import plot_dendrogram\n",
    "from sklearn import preprocessing\n",
    "from sklearn import decomposition\n",
    "from functions import *\n",
    "from sklearn.cluster import KMeans\n",
    "from scipy.cluster.hierarchy import dendrogram, linkage, fcluster\n",
    "from scipy.stats import ks_2samp\n",
    "from sklearn.preprocessing import StandardScaler\n",
    "from sklearn.decomposition import PCA\n",
    "from sklearn.model_selection import train_test_split\n",
    "from statsmodels.api import Logit\n",
    "from statsmodels.tools import add_constant\n",
    "import sklearn.metrics as metrics"
   ]
  },
  {
   "cell_type": "markdown",
   "metadata": {},
   "source": [
    "### Table of Contents\n",
    "\n",
    "* [I.Nettoyage de données](#chapter1)\n",
    "* [II. Mission 0](#chapter2)\n",
    "    * [1) Analyses univariées](#section_2_1)\n",
    "    * [2) Analyses bivariées](#section_2_2)\n",
    "* [III. Mission 1](#chapter3)\n",
    "    * [1) Analyse de l'éboulis des valeurs propres](#section_3_1)\n",
    "    * [2) Représentation des variables par le cercle des corrélations](#section_3_2)\n",
    "    * [3) Représentation des individus par les plans factoriels](#section_3_3)\n",
    "    * [4) Analyser de la qualité de représentation et la contribution des individus](#section_3_4)\n",
    "* [IV. Mission 2](#chapter4)\n",
    "    * [1) Application d'un algorithme de classification / Le K-means](#section_4_1)\n",
    "    * [2) Test de comparaison](#section_4_2) \n",
    "* [V. Mission 3](#chapter5)\n",
    "    * [1) Regression logistique](#section_5_1)\n",
    "    * [2) Prédictions](#section_5_2)\n",
    "    * [3) Programme](#section_5_3)"
   ]
  },
  {
   "cell_type": "markdown",
   "metadata": {},
   "source": [
    "## I. Nettoyage de données <a class=\"anchor\" id=\"section_1\"></a>"
   ]
  },
  {
   "cell_type": "code",
   "execution_count": 2,
   "metadata": {},
   "outputs": [
    {
     "data": {
      "text/html": [
       "<div>\n",
       "<style scoped>\n",
       "    .dataframe tbody tr th:only-of-type {\n",
       "        vertical-align: middle;\n",
       "    }\n",
       "\n",
       "    .dataframe tbody tr th {\n",
       "        vertical-align: top;\n",
       "    }\n",
       "\n",
       "    .dataframe thead th {\n",
       "        text-align: right;\n",
       "    }\n",
       "</style>\n",
       "<table border=\"1\" class=\"dataframe\">\n",
       "  <thead>\n",
       "    <tr style=\"text-align: right;\">\n",
       "      <th></th>\n",
       "      <th>is_genuine</th>\n",
       "      <th>diagonal</th>\n",
       "      <th>height_left</th>\n",
       "      <th>height_right</th>\n",
       "      <th>margin_low</th>\n",
       "      <th>margin_up</th>\n",
       "      <th>length</th>\n",
       "    </tr>\n",
       "  </thead>\n",
       "  <tbody>\n",
       "    <tr>\n",
       "      <th>0</th>\n",
       "      <td>True</td>\n",
       "      <td>171.81</td>\n",
       "      <td>104.86</td>\n",
       "      <td>104.95</td>\n",
       "      <td>4.52</td>\n",
       "      <td>2.89</td>\n",
       "      <td>112.83</td>\n",
       "    </tr>\n",
       "    <tr>\n",
       "      <th>1</th>\n",
       "      <td>True</td>\n",
       "      <td>171.67</td>\n",
       "      <td>103.74</td>\n",
       "      <td>103.70</td>\n",
       "      <td>4.01</td>\n",
       "      <td>2.87</td>\n",
       "      <td>113.29</td>\n",
       "    </tr>\n",
       "    <tr>\n",
       "      <th>2</th>\n",
       "      <td>True</td>\n",
       "      <td>171.83</td>\n",
       "      <td>103.76</td>\n",
       "      <td>103.76</td>\n",
       "      <td>4.40</td>\n",
       "      <td>2.88</td>\n",
       "      <td>113.84</td>\n",
       "    </tr>\n",
       "    <tr>\n",
       "      <th>3</th>\n",
       "      <td>True</td>\n",
       "      <td>171.80</td>\n",
       "      <td>103.78</td>\n",
       "      <td>103.65</td>\n",
       "      <td>3.73</td>\n",
       "      <td>3.12</td>\n",
       "      <td>113.63</td>\n",
       "    </tr>\n",
       "    <tr>\n",
       "      <th>4</th>\n",
       "      <td>True</td>\n",
       "      <td>172.05</td>\n",
       "      <td>103.70</td>\n",
       "      <td>103.75</td>\n",
       "      <td>5.04</td>\n",
       "      <td>2.27</td>\n",
       "      <td>113.55</td>\n",
       "    </tr>\n",
       "    <tr>\n",
       "      <th>...</th>\n",
       "      <td>...</td>\n",
       "      <td>...</td>\n",
       "      <td>...</td>\n",
       "      <td>...</td>\n",
       "      <td>...</td>\n",
       "      <td>...</td>\n",
       "      <td>...</td>\n",
       "    </tr>\n",
       "    <tr>\n",
       "      <th>165</th>\n",
       "      <td>False</td>\n",
       "      <td>172.11</td>\n",
       "      <td>104.23</td>\n",
       "      <td>104.45</td>\n",
       "      <td>5.24</td>\n",
       "      <td>3.58</td>\n",
       "      <td>111.78</td>\n",
       "    </tr>\n",
       "    <tr>\n",
       "      <th>166</th>\n",
       "      <td>False</td>\n",
       "      <td>173.01</td>\n",
       "      <td>104.59</td>\n",
       "      <td>104.31</td>\n",
       "      <td>5.04</td>\n",
       "      <td>3.05</td>\n",
       "      <td>110.91</td>\n",
       "    </tr>\n",
       "    <tr>\n",
       "      <th>167</th>\n",
       "      <td>False</td>\n",
       "      <td>172.47</td>\n",
       "      <td>104.27</td>\n",
       "      <td>104.10</td>\n",
       "      <td>4.88</td>\n",
       "      <td>3.33</td>\n",
       "      <td>110.68</td>\n",
       "    </tr>\n",
       "    <tr>\n",
       "      <th>168</th>\n",
       "      <td>False</td>\n",
       "      <td>171.82</td>\n",
       "      <td>103.97</td>\n",
       "      <td>103.88</td>\n",
       "      <td>4.73</td>\n",
       "      <td>3.55</td>\n",
       "      <td>111.87</td>\n",
       "    </tr>\n",
       "    <tr>\n",
       "      <th>169</th>\n",
       "      <td>False</td>\n",
       "      <td>171.96</td>\n",
       "      <td>104.00</td>\n",
       "      <td>103.95</td>\n",
       "      <td>5.63</td>\n",
       "      <td>3.26</td>\n",
       "      <td>110.96</td>\n",
       "    </tr>\n",
       "  </tbody>\n",
       "</table>\n",
       "<p>170 rows × 7 columns</p>\n",
       "</div>"
      ],
      "text/plain": [
       "     is_genuine  diagonal  height_left  height_right  margin_low  margin_up  \\\n",
       "0          True    171.81       104.86        104.95        4.52       2.89   \n",
       "1          True    171.67       103.74        103.70        4.01       2.87   \n",
       "2          True    171.83       103.76        103.76        4.40       2.88   \n",
       "3          True    171.80       103.78        103.65        3.73       3.12   \n",
       "4          True    172.05       103.70        103.75        5.04       2.27   \n",
       "..          ...       ...          ...           ...         ...        ...   \n",
       "165       False    172.11       104.23        104.45        5.24       3.58   \n",
       "166       False    173.01       104.59        104.31        5.04       3.05   \n",
       "167       False    172.47       104.27        104.10        4.88       3.33   \n",
       "168       False    171.82       103.97        103.88        4.73       3.55   \n",
       "169       False    171.96       104.00        103.95        5.63       3.26   \n",
       "\n",
       "     length  \n",
       "0    112.83  \n",
       "1    113.29  \n",
       "2    113.84  \n",
       "3    113.63  \n",
       "4    113.55  \n",
       "..      ...  \n",
       "165  111.78  \n",
       "166  110.91  \n",
       "167  110.68  \n",
       "168  111.87  \n",
       "169  110.96  \n",
       "\n",
       "[170 rows x 7 columns]"
      ]
     },
     "execution_count": 2,
     "metadata": {},
     "output_type": "execute_result"
    }
   ],
   "source": [
    "notes = pd.read_csv(\"notes.csv\")\n",
    "notes"
   ]
  },
  {
   "cell_type": "code",
   "execution_count": 3,
   "metadata": {},
   "outputs": [
    {
     "data": {
      "text/html": [
       "<div>\n",
       "<style scoped>\n",
       "    .dataframe tbody tr th:only-of-type {\n",
       "        vertical-align: middle;\n",
       "    }\n",
       "\n",
       "    .dataframe tbody tr th {\n",
       "        vertical-align: top;\n",
       "    }\n",
       "\n",
       "    .dataframe thead th {\n",
       "        text-align: right;\n",
       "    }\n",
       "</style>\n",
       "<table border=\"1\" class=\"dataframe\">\n",
       "  <thead>\n",
       "    <tr style=\"text-align: right;\">\n",
       "      <th></th>\n",
       "      <th>is_genuine</th>\n",
       "      <th>diagonal</th>\n",
       "      <th>height_left</th>\n",
       "      <th>height_right</th>\n",
       "      <th>margin_low</th>\n",
       "      <th>margin_up</th>\n",
       "      <th>length</th>\n",
       "    </tr>\n",
       "  </thead>\n",
       "  <tbody>\n",
       "    <tr>\n",
       "      <th>count</th>\n",
       "      <td>170</td>\n",
       "      <td>170.000000</td>\n",
       "      <td>170.000000</td>\n",
       "      <td>170.000000</td>\n",
       "      <td>170.000000</td>\n",
       "      <td>170.000000</td>\n",
       "      <td>170.000000</td>\n",
       "    </tr>\n",
       "    <tr>\n",
       "      <th>unique</th>\n",
       "      <td>2</td>\n",
       "      <td>NaN</td>\n",
       "      <td>NaN</td>\n",
       "      <td>NaN</td>\n",
       "      <td>NaN</td>\n",
       "      <td>NaN</td>\n",
       "      <td>NaN</td>\n",
       "    </tr>\n",
       "    <tr>\n",
       "      <th>top</th>\n",
       "      <td>True</td>\n",
       "      <td>NaN</td>\n",
       "      <td>NaN</td>\n",
       "      <td>NaN</td>\n",
       "      <td>NaN</td>\n",
       "      <td>NaN</td>\n",
       "      <td>NaN</td>\n",
       "    </tr>\n",
       "    <tr>\n",
       "      <th>freq</th>\n",
       "      <td>100</td>\n",
       "      <td>NaN</td>\n",
       "      <td>NaN</td>\n",
       "      <td>NaN</td>\n",
       "      <td>NaN</td>\n",
       "      <td>NaN</td>\n",
       "      <td>NaN</td>\n",
       "    </tr>\n",
       "    <tr>\n",
       "      <th>mean</th>\n",
       "      <td>NaN</td>\n",
       "      <td>171.940588</td>\n",
       "      <td>104.066353</td>\n",
       "      <td>103.928118</td>\n",
       "      <td>4.612118</td>\n",
       "      <td>3.170412</td>\n",
       "      <td>112.570412</td>\n",
       "    </tr>\n",
       "    <tr>\n",
       "      <th>std</th>\n",
       "      <td>NaN</td>\n",
       "      <td>0.305768</td>\n",
       "      <td>0.298185</td>\n",
       "      <td>0.330980</td>\n",
       "      <td>0.702103</td>\n",
       "      <td>0.236361</td>\n",
       "      <td>0.924448</td>\n",
       "    </tr>\n",
       "    <tr>\n",
       "      <th>min</th>\n",
       "      <td>NaN</td>\n",
       "      <td>171.040000</td>\n",
       "      <td>103.230000</td>\n",
       "      <td>103.140000</td>\n",
       "      <td>3.540000</td>\n",
       "      <td>2.270000</td>\n",
       "      <td>109.970000</td>\n",
       "    </tr>\n",
       "    <tr>\n",
       "      <th>25%</th>\n",
       "      <td>NaN</td>\n",
       "      <td>171.730000</td>\n",
       "      <td>103.842500</td>\n",
       "      <td>103.690000</td>\n",
       "      <td>4.050000</td>\n",
       "      <td>3.012500</td>\n",
       "      <td>111.855000</td>\n",
       "    </tr>\n",
       "    <tr>\n",
       "      <th>50%</th>\n",
       "      <td>NaN</td>\n",
       "      <td>171.945000</td>\n",
       "      <td>104.055000</td>\n",
       "      <td>103.950000</td>\n",
       "      <td>4.450000</td>\n",
       "      <td>3.170000</td>\n",
       "      <td>112.845000</td>\n",
       "    </tr>\n",
       "    <tr>\n",
       "      <th>75%</th>\n",
       "      <td>NaN</td>\n",
       "      <td>172.137500</td>\n",
       "      <td>104.287500</td>\n",
       "      <td>104.170000</td>\n",
       "      <td>5.127500</td>\n",
       "      <td>3.330000</td>\n",
       "      <td>113.287500</td>\n",
       "    </tr>\n",
       "    <tr>\n",
       "      <th>max</th>\n",
       "      <td>NaN</td>\n",
       "      <td>173.010000</td>\n",
       "      <td>104.860000</td>\n",
       "      <td>104.950000</td>\n",
       "      <td>6.280000</td>\n",
       "      <td>3.680000</td>\n",
       "      <td>113.980000</td>\n",
       "    </tr>\n",
       "  </tbody>\n",
       "</table>\n",
       "</div>"
      ],
      "text/plain": [
       "       is_genuine    diagonal  height_left  height_right  margin_low  \\\n",
       "count         170  170.000000   170.000000    170.000000  170.000000   \n",
       "unique          2         NaN          NaN           NaN         NaN   \n",
       "top          True         NaN          NaN           NaN         NaN   \n",
       "freq          100         NaN          NaN           NaN         NaN   \n",
       "mean          NaN  171.940588   104.066353    103.928118    4.612118   \n",
       "std           NaN    0.305768     0.298185      0.330980    0.702103   \n",
       "min           NaN  171.040000   103.230000    103.140000    3.540000   \n",
       "25%           NaN  171.730000   103.842500    103.690000    4.050000   \n",
       "50%           NaN  171.945000   104.055000    103.950000    4.450000   \n",
       "75%           NaN  172.137500   104.287500    104.170000    5.127500   \n",
       "max           NaN  173.010000   104.860000    104.950000    6.280000   \n",
       "\n",
       "         margin_up      length  \n",
       "count   170.000000  170.000000  \n",
       "unique         NaN         NaN  \n",
       "top            NaN         NaN  \n",
       "freq           NaN         NaN  \n",
       "mean      3.170412  112.570412  \n",
       "std       0.236361    0.924448  \n",
       "min       2.270000  109.970000  \n",
       "25%       3.012500  111.855000  \n",
       "50%       3.170000  112.845000  \n",
       "75%       3.330000  113.287500  \n",
       "max       3.680000  113.980000  "
      ]
     },
     "execution_count": 3,
     "metadata": {},
     "output_type": "execute_result"
    }
   ],
   "source": [
    "notes.describe(include='all')"
   ]
  },
  {
   "cell_type": "code",
   "execution_count": 4,
   "metadata": {},
   "outputs": [
    {
     "data": {
      "text/html": [
       "<div>\n",
       "<style scoped>\n",
       "    .dataframe tbody tr th:only-of-type {\n",
       "        vertical-align: middle;\n",
       "    }\n",
       "\n",
       "    .dataframe tbody tr th {\n",
       "        vertical-align: top;\n",
       "    }\n",
       "\n",
       "    .dataframe thead th {\n",
       "        text-align: right;\n",
       "    }\n",
       "</style>\n",
       "<table border=\"1\" class=\"dataframe\">\n",
       "  <thead>\n",
       "    <tr style=\"text-align: right;\">\n",
       "      <th></th>\n",
       "      <th>is_genuine</th>\n",
       "      <th>diagonal</th>\n",
       "      <th>height_left</th>\n",
       "      <th>height_right</th>\n",
       "      <th>margin_low</th>\n",
       "      <th>margin_up</th>\n",
       "      <th>length</th>\n",
       "    </tr>\n",
       "  </thead>\n",
       "  <tbody>\n",
       "    <tr>\n",
       "      <th>0</th>\n",
       "      <td>True</td>\n",
       "      <td>171.81</td>\n",
       "      <td>104.86</td>\n",
       "      <td>104.95</td>\n",
       "      <td>4.52</td>\n",
       "      <td>2.89</td>\n",
       "      <td>112.83</td>\n",
       "    </tr>\n",
       "    <tr>\n",
       "      <th>1</th>\n",
       "      <td>True</td>\n",
       "      <td>171.67</td>\n",
       "      <td>103.74</td>\n",
       "      <td>103.70</td>\n",
       "      <td>4.01</td>\n",
       "      <td>2.87</td>\n",
       "      <td>113.29</td>\n",
       "    </tr>\n",
       "    <tr>\n",
       "      <th>2</th>\n",
       "      <td>True</td>\n",
       "      <td>171.83</td>\n",
       "      <td>103.76</td>\n",
       "      <td>103.76</td>\n",
       "      <td>4.40</td>\n",
       "      <td>2.88</td>\n",
       "      <td>113.84</td>\n",
       "    </tr>\n",
       "    <tr>\n",
       "      <th>3</th>\n",
       "      <td>True</td>\n",
       "      <td>171.80</td>\n",
       "      <td>103.78</td>\n",
       "      <td>103.65</td>\n",
       "      <td>3.73</td>\n",
       "      <td>3.12</td>\n",
       "      <td>113.63</td>\n",
       "    </tr>\n",
       "    <tr>\n",
       "      <th>4</th>\n",
       "      <td>True</td>\n",
       "      <td>172.05</td>\n",
       "      <td>103.70</td>\n",
       "      <td>103.75</td>\n",
       "      <td>5.04</td>\n",
       "      <td>2.27</td>\n",
       "      <td>113.55</td>\n",
       "    </tr>\n",
       "    <tr>\n",
       "      <th>...</th>\n",
       "      <td>...</td>\n",
       "      <td>...</td>\n",
       "      <td>...</td>\n",
       "      <td>...</td>\n",
       "      <td>...</td>\n",
       "      <td>...</td>\n",
       "      <td>...</td>\n",
       "    </tr>\n",
       "    <tr>\n",
       "      <th>165</th>\n",
       "      <td>False</td>\n",
       "      <td>172.11</td>\n",
       "      <td>104.23</td>\n",
       "      <td>104.45</td>\n",
       "      <td>5.24</td>\n",
       "      <td>3.58</td>\n",
       "      <td>111.78</td>\n",
       "    </tr>\n",
       "    <tr>\n",
       "      <th>166</th>\n",
       "      <td>False</td>\n",
       "      <td>173.01</td>\n",
       "      <td>104.59</td>\n",
       "      <td>104.31</td>\n",
       "      <td>5.04</td>\n",
       "      <td>3.05</td>\n",
       "      <td>110.91</td>\n",
       "    </tr>\n",
       "    <tr>\n",
       "      <th>167</th>\n",
       "      <td>False</td>\n",
       "      <td>172.47</td>\n",
       "      <td>104.27</td>\n",
       "      <td>104.10</td>\n",
       "      <td>4.88</td>\n",
       "      <td>3.33</td>\n",
       "      <td>110.68</td>\n",
       "    </tr>\n",
       "    <tr>\n",
       "      <th>168</th>\n",
       "      <td>False</td>\n",
       "      <td>171.82</td>\n",
       "      <td>103.97</td>\n",
       "      <td>103.88</td>\n",
       "      <td>4.73</td>\n",
       "      <td>3.55</td>\n",
       "      <td>111.87</td>\n",
       "    </tr>\n",
       "    <tr>\n",
       "      <th>169</th>\n",
       "      <td>False</td>\n",
       "      <td>171.96</td>\n",
       "      <td>104.00</td>\n",
       "      <td>103.95</td>\n",
       "      <td>5.63</td>\n",
       "      <td>3.26</td>\n",
       "      <td>110.96</td>\n",
       "    </tr>\n",
       "  </tbody>\n",
       "</table>\n",
       "<p>170 rows × 7 columns</p>\n",
       "</div>"
      ],
      "text/plain": [
       "     is_genuine  diagonal  height_left  height_right  margin_low  margin_up  \\\n",
       "0          True    171.81       104.86        104.95        4.52       2.89   \n",
       "1          True    171.67       103.74        103.70        4.01       2.87   \n",
       "2          True    171.83       103.76        103.76        4.40       2.88   \n",
       "3          True    171.80       103.78        103.65        3.73       3.12   \n",
       "4          True    172.05       103.70        103.75        5.04       2.27   \n",
       "..          ...       ...          ...           ...         ...        ...   \n",
       "165       False    172.11       104.23        104.45        5.24       3.58   \n",
       "166       False    173.01       104.59        104.31        5.04       3.05   \n",
       "167       False    172.47       104.27        104.10        4.88       3.33   \n",
       "168       False    171.82       103.97        103.88        4.73       3.55   \n",
       "169       False    171.96       104.00        103.95        5.63       3.26   \n",
       "\n",
       "     length  \n",
       "0    112.83  \n",
       "1    113.29  \n",
       "2    113.84  \n",
       "3    113.63  \n",
       "4    113.55  \n",
       "..      ...  \n",
       "165  111.78  \n",
       "166  110.91  \n",
       "167  110.68  \n",
       "168  111.87  \n",
       "169  110.96  \n",
       "\n",
       "[170 rows x 7 columns]"
      ]
     },
     "execution_count": 4,
     "metadata": {},
     "output_type": "execute_result"
    }
   ],
   "source": [
    "notes = notes.dropna()\n",
    "notes"
   ]
  },
  {
   "cell_type": "markdown",
   "metadata": {},
   "source": [
    "Nous pouvons constater que ce jeu de donnés est propre et exploitable en l'état d'origine."
   ]
  },
  {
   "cell_type": "markdown",
   "metadata": {},
   "source": [
    "## II. Mission 0 <a class=\"anchor\" id=\"section_2\"></a>"
   ]
  },
  {
   "cell_type": "markdown",
   "metadata": {},
   "source": [
    "### 1) Analyses univariées <a class=\"anchor\" id=\"section_2_1\"></a>"
   ]
  },
  {
   "cell_type": "code",
   "execution_count": 5,
   "metadata": {},
   "outputs": [
    {
     "data": {
      "image/png": "[encoded data removed]",
      "text/plain": [
       "<Figure size 576x432 with 1 Axes>"
      ]
     },
     "metadata": {
      "needs_background": "light"
     },
     "output_type": "display_data"
    }
   ],
   "source": [
    "plt.figure(figsize=(8, 6))\n",
    "notes[\"is_genuine\"].value_counts(normalize=True).plot(kind='bar', color='skyblue')\n",
    "plt.show()"
   ]
  },
  {
   "cell_type": "code",
   "execution_count": 6,
   "metadata": {},
   "outputs": [
    {
     "data": {
      "image/png": "[encoded data removed]",
      "text/plain": [
       "<Figure size 576x432 with 1 Axes>"
      ]
     },
     "metadata": {},
     "output_type": "display_data"
    }
   ],
   "source": [
    "notes[\"is_genuine\"].value_counts(normalize=True).plot(kind='pie', figsize = (8, 6), colors = ['yellow', 'purple'], autopct = '%.2f')\n",
    "plt.show()"
   ]
  },
  {
   "cell_type": "code",
   "execution_count": 7,
   "metadata": {},
   "outputs": [
    {
     "data": {
      "image/png": "[encoded data removed]",
      "text/plain": [
       "<Figure size 576x432 with 1 Axes>"
      ]
     },
     "metadata": {
      "needs_background": "light"
     },
     "output_type": "display_data"
    },
    {
     "data": {
      "text/plain": [
       "0    172.1\n",
       "dtype: float64"
      ]
     },
     "execution_count": 7,
     "metadata": {},
     "output_type": "execute_result"
    }
   ],
   "source": [
    "plt.figure(figsize=(8, 6))\n",
    "sns.distplot(notes[\"diagonal\"]).set_title(\"diagonal\")\n",
    "plt.show()\n",
    "notes['diagonal'].mode()"
   ]
  },
  {
   "cell_type": "code",
   "execution_count": 8,
   "metadata": {},
   "outputs": [
    {
     "data": {
      "text/plain": [
       "Ks_2sampResult(statistic=0.0758235294117647, pvalue=0.3539463495699199)"
      ]
     },
     "execution_count": 8,
     "metadata": {},
     "output_type": "execute_result"
    }
   ],
   "source": [
    "ks_2samp(notes[\"diagonal\"],list(np.random.normal(np.mean(notes[\"diagonal\"]), np.std(notes[\"diagonal\"]), 1000)))"
   ]
  },
  {
   "cell_type": "markdown",
   "metadata": {},
   "source": [
    "pvalue > 0,05 -> 5% -> On ne peut donc pas rejeter l’hypothèse de normalité au niveau de test 5%"
   ]
  },
  {
   "cell_type": "code",
   "execution_count": 9,
   "metadata": {},
   "outputs": [
    {
     "data": {
      "image/png": "[encoded data removed]",
      "text/plain": [
       "<Figure size 576x432 with 1 Axes>"
      ]
     },
     "metadata": {
      "needs_background": "light"
     },
     "output_type": "display_data"
    },
    {
     "data": {
      "text/plain": [
       "0    104.17\n",
       "1    104.32\n",
       "dtype: float64"
      ]
     },
     "execution_count": 9,
     "metadata": {},
     "output_type": "execute_result"
    }
   ],
   "source": [
    "plt.figure(figsize=(8, 6))\n",
    "sns.distplot(notes[\"height_left\"]).set_title(\"height_left\")\n",
    "plt.show()\n",
    "notes['height_left'].mode()"
   ]
  },
  {
   "cell_type": "code",
   "execution_count": 10,
   "metadata": {},
   "outputs": [
    {
     "data": {
      "text/plain": [
       "Ks_2sampResult(statistic=0.05617647058823529, pvalue=0.7246542484481846)"
      ]
     },
     "execution_count": 10,
     "metadata": {},
     "output_type": "execute_result"
    }
   ],
   "source": [
    "ks_2samp(notes[\"height_left\"],list(np.random.normal(np.mean(notes[\"height_left\"]), np.std(notes[\"height_left\"]), 1000)))"
   ]
  },
  {
   "cell_type": "markdown",
   "metadata": {},
   "source": [
    "pvalue > 0,05 -> 5% -> On ne peut donc pas rejeter l’hypothèse de normalité au niveau de test 5%"
   ]
  },
  {
   "cell_type": "code",
   "execution_count": 11,
   "metadata": {},
   "outputs": [
    {
     "data": {
      "image/png": "[encoded data removed]",
      "text/plain": [
       "<Figure size 576x432 with 1 Axes>"
      ]
     },
     "metadata": {
      "needs_background": "light"
     },
     "output_type": "display_data"
    },
    {
     "data": {
      "text/plain": [
       "0    103.76\n",
       "1    104.06\n",
       "dtype: float64"
      ]
     },
     "execution_count": 11,
     "metadata": {},
     "output_type": "execute_result"
    }
   ],
   "source": [
    "plt.figure(figsize=(8, 6))\n",
    "sns.distplot(notes[\"height_right\"]).set_title(\"height_right\")\n",
    "plt.show()\n",
    "notes['height_right'].mode()"
   ]
  },
  {
   "cell_type": "code",
   "execution_count": 12,
   "metadata": {},
   "outputs": [
    {
     "data": {
      "text/plain": [
       "Ks_2sampResult(statistic=0.06705882352941177, pvalue=0.506846095750425)"
      ]
     },
     "execution_count": 12,
     "metadata": {},
     "output_type": "execute_result"
    }
   ],
   "source": [
    "ks_2samp(notes[\"height_right\"],list(np.random.normal(np.mean(notes[\"height_right\"]), np.std(notes[\"height_right\"]), 1000)))"
   ]
  },
  {
   "cell_type": "markdown",
   "metadata": {},
   "source": [
    "pvalue > 0,05 -> 5% -> On ne peut donc pas rejeter l’hypothèse de normalité au niveau de test 5%"
   ]
  },
  {
   "cell_type": "code",
   "execution_count": 13,
   "metadata": {},
   "outputs": [
    {
     "data": {
      "image/png": "[encoded data removed]",
      "text/plain": [
       "<Figure size 576x432 with 1 Axes>"
      ]
     },
     "metadata": {
      "needs_background": "light"
     },
     "output_type": "display_data"
    }
   ],
   "source": [
    "plt.figure(figsize=(8, 6))\n",
    "sns.distplot(notes[\"margin_low\"]).set_title(\"margin_low\")\n",
    "plt.show()"
   ]
  },
  {
   "cell_type": "code",
   "execution_count": 14,
   "metadata": {},
   "outputs": [
    {
     "data": {
      "text/plain": [
       "Ks_2sampResult(statistic=0.105, pvalue=0.0749828829556004)"
      ]
     },
     "execution_count": 14,
     "metadata": {},
     "output_type": "execute_result"
    }
   ],
   "source": [
    "ks_2samp(notes[\"margin_low\"],list(np.random.normal(np.mean(notes[\"margin_low\"]), np.std(notes[\"margin_low\"]), 1000)))"
   ]
  },
  {
   "cell_type": "markdown",
   "metadata": {},
   "source": [
    "pvalue < 0,05 -> 5% -> On peut donc rejeter l’hypothèse de normalité au niveau de test 5%"
   ]
  },
  {
   "cell_type": "code",
   "execution_count": 15,
   "metadata": {},
   "outputs": [
    {
     "data": {
      "image/png": "[encoded data removed]",
      "text/plain": [
       "<Figure size 576x432 with 1 Axes>"
      ]
     },
     "metadata": {
      "needs_background": "light"
     },
     "output_type": "display_data"
    }
   ],
   "source": [
    "plt.figure(figsize=(8, 6))\n",
    "sns.distplot(notes[\"margin_up\"]).set_title(\"margin_up\")\n",
    "plt.show()"
   ]
  },
  {
   "cell_type": "code",
   "execution_count": 16,
   "metadata": {},
   "outputs": [
    {
     "data": {
      "text/plain": [
       "Ks_2sampResult(statistic=0.03835294117647059, pvalue=0.9768998715849286)"
      ]
     },
     "execution_count": 16,
     "metadata": {},
     "output_type": "execute_result"
    }
   ],
   "source": [
    "ks_2samp(notes[\"margin_up\"],list(np.random.normal(np.mean(notes[\"margin_up\"]), np.std(notes[\"margin_up\"]), 1000)))"
   ]
  },
  {
   "cell_type": "markdown",
   "metadata": {},
   "source": [
    "pvalue < 0,05 -> 5% -> On peut donc rejeter l’hypothèse de normalité au niveau de test 5%"
   ]
  },
  {
   "cell_type": "code",
   "execution_count": 17,
   "metadata": {},
   "outputs": [
    {
     "data": {
      "image/png": "[encoded data removed]",
      "text/plain": [
       "<Figure size 576x432 with 1 Axes>"
      ]
     },
     "metadata": {
      "needs_background": "light"
     },
     "output_type": "display_data"
    }
   ],
   "source": [
    "plt.figure(figsize=(8, 6))\n",
    "sns.distplot(notes[\"length\"]).set_title(\"length\")\n",
    "plt.show()"
   ]
  },
  {
   "cell_type": "code",
   "execution_count": 18,
   "metadata": {},
   "outputs": [
    {
     "data": {
      "text/plain": [
       "Ks_2sampResult(statistic=0.12211764705882353, pvalue=0.02382794144730227)"
      ]
     },
     "execution_count": 18,
     "metadata": {},
     "output_type": "execute_result"
    }
   ],
   "source": [
    "ks_2samp(notes[\"length\"],list(np.random.normal(np.mean(notes[\"length\"]), np.std(notes[\"length\"]), 1000)))"
   ]
  },
  {
   "cell_type": "markdown",
   "metadata": {},
   "source": [
    "pvalue > 0,05 -> 5% -> On ne peut donc pas rejeter l’hypothèse de normalité au niveau de test 5%"
   ]
  },
  {
   "cell_type": "markdown",
   "metadata": {},
   "source": [
    "## 2) Analyses bivariées <a class=\"anchor\" id=\"section_2_2\"></a>"
   ]
  },
  {
   "cell_type": "code",
   "execution_count": 19,
   "metadata": {},
   "outputs": [
    {
     "data": {
      "image/png": "[encoded data removed]",
      "text/plain": [
       "<Figure size 576x432 with 1 Axes>"
      ]
     },
     "metadata": {
      "needs_background": "light"
     },
     "output_type": "display_data"
    }
   ],
   "source": [
    "X = \"is_genuine\" # qualitative\n",
    "Y = \"diagonal\" # quantitative\n",
    "\n",
    "modalites = notes[X].unique()\n",
    "groupes = []\n",
    "for m in modalites:\n",
    "    groupes.append(notes[notes[X]==m][Y])\n",
    "\n",
    "\n",
    "medianprops = {'color':\"DarkBlue\"}\n",
    "meanprops = {'marker':'o', 'markeredgecolor':'Green',\n",
    "            'markerfacecolor':'coral'}\n",
    "plt.figure(figsize=(8, 6))\n",
    "plt.title('diagonal',fontsize=14) \n",
    "plt.boxplot(groupes, labels=modalites, showfliers=False, medianprops=medianprops, \n",
    "            vert=True, patch_artist=True, showmeans=True, meanprops=meanprops)\n",
    "plt.show()"
   ]
  },
  {
   "cell_type": "code",
   "execution_count": 20,
   "metadata": {},
   "outputs": [
    {
     "data": {
      "text/plain": [
       "0.019383108567093802"
      ]
     },
     "execution_count": 20,
     "metadata": {},
     "output_type": "execute_result"
    }
   ],
   "source": [
    "def eta_squared(x,y):\n",
    "    moyenne_y = y.mean()\n",
    "    classes = []\n",
    "    for classe in x.unique():\n",
    "        yi_classe = y[x==classe]\n",
    "        classes.append({'ni': len(yi_classe),\n",
    "                        'moyenne_classe': yi_classe.mean()})\n",
    "    SCT = sum([(yj-moyenne_y)**2 for yj in y])\n",
    "    SCE = sum([c['ni']*(c['moyenne_classe']-moyenne_y)**2 for c in classes])\n",
    "    return SCE/SCT\n",
    "    \n",
    "eta_squared(notes[X],notes[Y])"
   ]
  },
  {
   "attachments": {},
   "cell_type": "markdown",
   "metadata": {},
   "source": [
    "Le calcul d'Eta carré étant inférieur à 0,06 nous ne pouvons pas établir une corrélation entre la variable diagonal et la variable is genuine."
   ]
  },
  {
   "cell_type": "code",
   "execution_count": 21,
   "metadata": {},
   "outputs": [
    {
     "data": {
      "image/png": "[encoded data removed]",
      "text/plain": [
       "<Figure size 576x432 with 1 Axes>"
      ]
     },
     "metadata": {
      "needs_background": "light"
     },
     "output_type": "display_data"
    }
   ],
   "source": [
    "Z = \"height_left\" # quantitative\n",
    "\n",
    "modalites = notes[X].unique()\n",
    "groupes = []\n",
    "for m in modalites:\n",
    "    groupes.append(notes[notes[X]==m][Z])\n",
    "\n",
    "\n",
    "medianprops = {'color':\"DarkBlue\"}\n",
    "meanprops = {'marker':'o', 'markeredgecolor':'Green',\n",
    "            'markerfacecolor':'coral'}\n",
    "plt.figure(figsize=(8, 6))\n",
    "plt.title('height_left',fontsize=14) \n",
    "plt.boxplot(groupes, labels=modalites, showfliers=False, medianprops=medianprops, \n",
    "            vert=True, patch_artist=True, showmeans=True, meanprops=meanprops)\n",
    "plt.show()"
   ]
  },
  {
   "cell_type": "code",
   "execution_count": 22,
   "metadata": {},
   "outputs": [
    {
     "data": {
      "text/plain": [
       "0.21319458315018705"
      ]
     },
     "execution_count": 22,
     "metadata": {},
     "output_type": "execute_result"
    }
   ],
   "source": [
    "def eta_squared(x,y):\n",
    "    moyenne_y = y.mean()\n",
    "    classes = []\n",
    "    for classe in x.unique():\n",
    "        yi_classe = y[x==classe]\n",
    "        classes.append({'ni': len(yi_classe),\n",
    "                        'moyenne_classe': yi_classe.mean()})\n",
    "    SCT = sum([(yj-moyenne_y)**2 for yj in y])\n",
    "    SCE = sum([c['ni']*(c['moyenne_classe']-moyenne_y)**2 for c in classes])\n",
    "    return SCE/SCT\n",
    "    \n",
    "eta_squared(notes[X],notes[Z])"
   ]
  },
  {
   "attachments": {},
   "cell_type": "markdown",
   "metadata": {},
   "source": [
    "Le calcul d'Eta carré étant supérieur à 0,12, nous pouvons établir une forte correlation la variable height_left et la variable is genuine."
   ]
  },
  {
   "cell_type": "code",
   "execution_count": 23,
   "metadata": {},
   "outputs": [
    {
     "data": {
      "image/png": "[encoded data removed]",
      "text/plain": [
       "<Figure size 576x432 with 1 Axes>"
      ]
     },
     "metadata": {
      "needs_background": "light"
     },
     "output_type": "display_data"
    }
   ],
   "source": [
    "A = \"height_right\" # quantitative\n",
    "\n",
    "modalites = notes[X].unique()\n",
    "groupes = []\n",
    "for m in modalites:\n",
    "    groupes.append(notes[notes[X]==m][A])\n",
    "\n",
    "\n",
    "medianprops = {'color':\"DarkBlue\"}\n",
    "meanprops = {'marker':'o', 'markeredgecolor':'Green',\n",
    "            'markerfacecolor':'coral'}\n",
    "plt.figure(figsize=(8, 6))\n",
    "plt.title('height_right',fontsize=14) \n",
    "plt.boxplot(groupes, labels=modalites, showfliers=False, medianprops=medianprops, \n",
    "            vert=True, patch_artist=True, showmeans=True, meanprops=meanprops)\n",
    "plt.show()"
   ]
  },
  {
   "cell_type": "code",
   "execution_count": 24,
   "metadata": {},
   "outputs": [
    {
     "data": {
      "text/plain": [
       "0.30394154672012125"
      ]
     },
     "execution_count": 24,
     "metadata": {},
     "output_type": "execute_result"
    }
   ],
   "source": [
    "def eta_squared(x,y):\n",
    "    moyenne_y = y.mean()\n",
    "    classes = []\n",
    "    for classe in x.unique():\n",
    "        yi_classe = y[x==classe]\n",
    "        classes.append({'ni': len(yi_classe),\n",
    "                        'moyenne_classe': yi_classe.mean()})\n",
    "    SCT = sum([(yj-moyenne_y)**2 for yj in y])\n",
    "    SCE = sum([c['ni']*(c['moyenne_classe']-moyenne_y)**2 for c in classes])\n",
    "    return SCE/SCT\n",
    "    \n",
    "eta_squared(notes[X],notes[A])"
   ]
  },
  {
   "cell_type": "markdown",
   "metadata": {},
   "source": [
    "Le calcul d'Eta carré étant supérieur à 0,12, nous pouvons établir une forte correlation entre la variable height_right et la variable is genuine.\n"
   ]
  },
  {
   "cell_type": "code",
   "execution_count": 25,
   "metadata": {},
   "outputs": [
    {
     "data": {
      "image/png": "[encoded data removed]",
      "text/plain": [
       "<Figure size 576x432 with 1 Axes>"
      ]
     },
     "metadata": {
      "needs_background": "light"
     },
     "output_type": "display_data"
    }
   ],
   "source": [
    "B = \"margin_low\" # quantitative\n",
    "\n",
    "modalites = notes[X].unique()\n",
    "groupes = []\n",
    "for m in modalites:\n",
    "    groupes.append(notes[notes[X]==m][B])\n",
    "\n",
    "\n",
    "medianprops = {'color':\"DarkBlue\"}\n",
    "meanprops = {'marker':'o', 'markeredgecolor':'Green',\n",
    "            'markerfacecolor':'coral'}\n",
    "plt.figure(figsize=(8, 6))\n",
    "plt.title('margin_low',fontsize=14) \n",
    "plt.boxplot(groupes, labels=modalites, showfliers=False, medianprops=medianprops, \n",
    "            vert=True, patch_artist=True, showmeans=True, meanprops=meanprops)\n",
    "plt.show()"
   ]
  },
  {
   "cell_type": "code",
   "execution_count": 26,
   "metadata": {},
   "outputs": [
    {
     "data": {
      "text/plain": [
       "0.640177214288775"
      ]
     },
     "execution_count": 26,
     "metadata": {},
     "output_type": "execute_result"
    }
   ],
   "source": [
    "def eta_squared(x,y):\n",
    "    moyenne_y = y.mean()\n",
    "    classes = []\n",
    "    for classe in x.unique():\n",
    "        yi_classe = y[x==classe]\n",
    "        classes.append({'ni': len(yi_classe),\n",
    "                        'moyenne_classe': yi_classe.mean()})\n",
    "    SCT = sum([(yj-moyenne_y)**2 for yj in y])\n",
    "    SCE = sum([c['ni']*(c['moyenne_classe']-moyenne_y)**2 for c in classes])\n",
    "    return SCE/SCT\n",
    "    \n",
    "eta_squared(notes[X],notes[B])"
   ]
  },
  {
   "cell_type": "markdown",
   "metadata": {},
   "source": [
    "Le calcul d'Eta carré étant supérieur à 0,12, nous pouvons établir une forte correlation entre la variable margin_low et is_genuine.\n"
   ]
  },
  {
   "cell_type": "code",
   "execution_count": 27,
   "metadata": {},
   "outputs": [
    {
     "data": {
      "image/png": "[encoded data removed]",
      "text/plain": [
       "<Figure size 576x432 with 1 Axes>"
      ]
     },
     "metadata": {
      "needs_background": "light"
     },
     "output_type": "display_data"
    }
   ],
   "source": [
    "C = \"margin_up\" # quantitative\n",
    "\n",
    "modalites = notes[X].unique()\n",
    "groupes = []\n",
    "for m in modalites:\n",
    "    groupes.append(notes[notes[X]==m][C])\n",
    "\n",
    "\n",
    "medianprops = {'color':\"DarkBlue\"}\n",
    "meanprops = {'marker':'o', 'markeredgecolor':'Green',\n",
    "            'markerfacecolor':'coral'}\n",
    "plt.figure(figsize=(8, 6))\n",
    "plt.title('margin_up',fontsize=14) \n",
    "plt.boxplot(groupes, labels=modalites, showfliers=False, medianprops=medianprops, \n",
    "            vert=True, patch_artist=True, showmeans=True, meanprops=meanprops)\n",
    "plt.show()"
   ]
  },
  {
   "cell_type": "code",
   "execution_count": 28,
   "metadata": {},
   "outputs": [
    {
     "data": {
      "text/plain": [
       "0.3396567096032002"
      ]
     },
     "execution_count": 28,
     "metadata": {},
     "output_type": "execute_result"
    }
   ],
   "source": [
    "def eta_squared(x,y):\n",
    "    moyenne_y = y.mean()\n",
    "    classes = []\n",
    "    for classe in x.unique():\n",
    "        yi_classe = y[x==classe]\n",
    "        classes.append({'ni': len(yi_classe),\n",
    "                        'moyenne_classe': yi_classe.mean()})\n",
    "    SCT = sum([(yj-moyenne_y)**2 for yj in y])\n",
    "    SCE = sum([c['ni']*(c['moyenne_classe']-moyenne_y)**2 for c in classes])\n",
    "    return SCE/SCT\n",
    "    \n",
    "eta_squared(notes[X],notes[C])"
   ]
  },
  {
   "cell_type": "markdown",
   "metadata": {},
   "source": [
    "Le calcul d'Eta carré étant supérieur à 0,12, nous pouvons établir une forte correlation entre la variable margin_up et la variable is genuine.\n"
   ]
  },
  {
   "cell_type": "code",
   "execution_count": 29,
   "metadata": {},
   "outputs": [
    {
     "data": {
      "image/png": "[encoded data removed]",
      "text/plain": [
       "<Figure size 576x432 with 1 Axes>"
      ]
     },
     "metadata": {
      "needs_background": "light"
     },
     "output_type": "display_data"
    }
   ],
   "source": [
    "D = \"length\" # quantitative\n",
    "\n",
    "modalites = notes[X].unique()\n",
    "groupes = []\n",
    "for m in modalites:\n",
    "    groupes.append(notes[notes[X]==m][D])\n",
    "\n",
    "\n",
    "medianprops = {'color':\"DarkBlue\"}\n",
    "meanprops = {'marker':'o', 'markeredgecolor':'Green',\n",
    "            'markerfacecolor':'coral'}\n",
    "plt.figure(figsize=(8, 6))\n",
    "plt.title('length',fontsize=14) \n",
    "plt.boxplot(groupes, labels=modalites, showfliers=False, medianprops=medianprops, \n",
    "            vert=True, patch_artist=True, showmeans=True, meanprops=meanprops)\n",
    "plt.show()"
   ]
  },
  {
   "cell_type": "code",
   "execution_count": 30,
   "metadata": {},
   "outputs": [
    {
     "data": {
      "text/plain": [
       "0.6818507654957807"
      ]
     },
     "execution_count": 30,
     "metadata": {},
     "output_type": "execute_result"
    }
   ],
   "source": [
    "def eta_squared(x,y):\n",
    "    moyenne_y = y.mean()\n",
    "    classes = []\n",
    "    for classe in x.unique():\n",
    "        yi_classe = y[x==classe]\n",
    "        classes.append({'ni': len(yi_classe),\n",
    "                        'moyenne_classe': yi_classe.mean()})\n",
    "    SCT = sum([(yj-moyenne_y)**2 for yj in y])\n",
    "    SCE = sum([c['ni']*(c['moyenne_classe']-moyenne_y)**2 for c in classes])\n",
    "    return SCE/SCT\n",
    "    \n",
    "eta_squared(notes[X],notes[D])"
   ]
  },
  {
   "cell_type": "markdown",
   "metadata": {},
   "source": [
    "Le calcul d'Eta carré étant supérieur à 0,12, nous pouvons établir une forte correlation entre la variable length et is_genuine."
   ]
  },
  {
   "cell_type": "markdown",
   "metadata": {},
   "source": [
    "## III. Mission 1 <a class=\"anchor\" id=\"section_3\"></a>"
   ]
  },
  {
   "cell_type": "markdown",
   "metadata": {},
   "source": [
    "### 1) Analyse de l'éboulis des valeurs propres <a class=\"anchor\" id=\"section_3_1\"></a>"
   ]
  },
  {
   "cell_type": "code",
   "execution_count": 31,
   "metadata": {},
   "outputs": [
    {
     "data": {
      "image/png": "[encoded data removed]",
      "text/plain": [
       "<Figure size 576x432 with 1 Axes>"
      ]
     },
     "metadata": {
      "needs_background": "light"
     },
     "output_type": "display_data"
    }
   ],
   "source": [
    "mesure = notes.drop([\"is_genuine\"], axis=1)\n",
    "\n",
    "# préparation des données pour le clustering\n",
    "X = mesure.values\n",
    "names = mesure.index\n",
    "\n",
    "# Centrage et Réduction\n",
    "std_scale = preprocessing.StandardScaler().fit(X)\n",
    "X_scaled = std_scale.transform(X)\n",
    "\n",
    "# choix du nombre et des composantes à calculer\n",
    "n_comp = 6\n",
    "features = mesure.columns\n",
    "\n",
    "# Calcul des composantes principales\n",
    "pca = decomposition.PCA(n_components=n_comp)\n",
    "pca.fit(X_scaled)\n",
    "\n",
    "# Eboulis des valeurs propres\n",
    "plt.figure(figsize=(8, 6))\n",
    "display_scree_plot(pca)"
   ]
  },
  {
   "cell_type": "markdown",
   "metadata": {},
   "source": [
    "Les deux premières composantes représentent 70% de l'inertie totale. Nous pouvons donc nous contenter d'étudier la projection sur le premier plan factoriel."
   ]
  },
  {
   "cell_type": "markdown",
   "metadata": {},
   "source": [
    "### 2) Représentation des variables par le cercle des corrélations <a class=\"anchor\" id=\"section_3_2\"></a> "
   ]
  },
  {
   "cell_type": "code",
   "execution_count": 32,
   "metadata": {},
   "outputs": [
    {
     "data": {
      "image/png": "[encoded data removed]",
      "text/plain": [
       "<Figure size 504x432 with 1 Axes>"
      ]
     },
     "metadata": {
      "needs_background": "light"
     },
     "output_type": "display_data"
    }
   ],
   "source": [
    "# Cercle des corrélations\n",
    "\n",
    "pcs = pca.components_\n",
    "display_circles(pcs, n_comp, pca, [(0,1)], labels = np.array(features))"
   ]
  },
  {
   "cell_type": "markdown",
   "metadata": {},
   "source": [
    "L'axe des abscisses représente l'axe de l'authenticité. 5 des variables y sont corrélées."
   ]
  },
  {
   "cell_type": "markdown",
   "metadata": {},
   "source": [
    "### 3) Représentation des individus par les plans factoriels <a class=\"anchor\" id=\"section_3_3\"></a> "
   ]
  },
  {
   "cell_type": "code",
   "execution_count": 33,
   "metadata": {},
   "outputs": [
    {
     "data": {
      "image/png": "[encoded data removed]",
      "text/plain": [
       "<Figure size 576x432 with 1 Axes>"
      ]
     },
     "metadata": {
      "needs_background": "light"
     },
     "output_type": "display_data"
    }
   ],
   "source": [
    "# Affichage du clustering par projection des individus sur le premier plan factoriel\n",
    "\n",
    "clusters = notes['is_genuine']\n",
    "X_projected = pca.transform(X_scaled)\n",
    "\n",
    "plt.figure(figsize=(8, 6))\n",
    "sns.scatterplot(X_projected[:, 0], X_projected[:, 1], hue=clusters, cmap = 'jet', palette=\"bright\")\n",
    "plt.title(\"Projection des {} individus sur le 1e plan factoriel\".format(X_projected.shape[0]))\n",
    "plt.show(block=False)"
   ]
  },
  {
   "cell_type": "markdown",
   "metadata": {},
   "source": [
    "### 4) Analyser de la qualité de la représentation et la contribution des individus <a class=\"anchor\" id=\"section_3_4\"></a> "
   ]
  },
  {
   "cell_type": "code",
   "execution_count": 34,
   "metadata": {},
   "outputs": [
    {
     "data": {
      "text/html": [
       "<div>\n",
       "<style scoped>\n",
       "    .dataframe tbody tr th:only-of-type {\n",
       "        vertical-align: middle;\n",
       "    }\n",
       "\n",
       "    .dataframe tbody tr th {\n",
       "        vertical-align: top;\n",
       "    }\n",
       "\n",
       "    .dataframe thead th {\n",
       "        text-align: right;\n",
       "    }\n",
       "</style>\n",
       "<table border=\"1\" class=\"dataframe\">\n",
       "  <thead>\n",
       "    <tr style=\"text-align: right;\">\n",
       "      <th></th>\n",
       "      <th>billet</th>\n",
       "      <th>contribution</th>\n",
       "    </tr>\n",
       "  </thead>\n",
       "  <tbody>\n",
       "    <tr>\n",
       "      <th>166</th>\n",
       "      <td>166</td>\n",
       "      <td>20.625650</td>\n",
       "    </tr>\n",
       "    <tr>\n",
       "      <th>0</th>\n",
       "      <td>0</td>\n",
       "      <td>18.410598</td>\n",
       "    </tr>\n",
       "    <tr>\n",
       "      <th>4</th>\n",
       "      <td>4</td>\n",
       "      <td>18.039567</td>\n",
       "    </tr>\n",
       "    <tr>\n",
       "      <th>122</th>\n",
       "      <td>122</td>\n",
       "      <td>16.790944</td>\n",
       "    </tr>\n",
       "    <tr>\n",
       "      <th>39</th>\n",
       "      <td>39</td>\n",
       "      <td>15.052608</td>\n",
       "    </tr>\n",
       "    <tr>\n",
       "      <th>...</th>\n",
       "      <td>...</td>\n",
       "      <td>...</td>\n",
       "    </tr>\n",
       "    <tr>\n",
       "      <th>59</th>\n",
       "      <td>59</td>\n",
       "      <td>1.484454</td>\n",
       "    </tr>\n",
       "    <tr>\n",
       "      <th>76</th>\n",
       "      <td>76</td>\n",
       "      <td>1.435202</td>\n",
       "    </tr>\n",
       "    <tr>\n",
       "      <th>85</th>\n",
       "      <td>85</td>\n",
       "      <td>1.431664</td>\n",
       "    </tr>\n",
       "    <tr>\n",
       "      <th>98</th>\n",
       "      <td>98</td>\n",
       "      <td>0.878319</td>\n",
       "    </tr>\n",
       "    <tr>\n",
       "      <th>64</th>\n",
       "      <td>64</td>\n",
       "      <td>0.813929</td>\n",
       "    </tr>\n",
       "  </tbody>\n",
       "</table>\n",
       "<p>170 rows × 2 columns</p>\n",
       "</div>"
      ],
      "text/plain": [
       "     billet  contribution\n",
       "166     166     20.625650\n",
       "0         0     18.410598\n",
       "4         4     18.039567\n",
       "122     122     16.790944\n",
       "39       39     15.052608\n",
       "..      ...           ...\n",
       "59       59      1.484454\n",
       "76       76      1.435202\n",
       "85       85      1.431664\n",
       "98       98      0.878319\n",
       "64       64      0.813929\n",
       "\n",
       "[170 rows x 2 columns]"
      ]
     },
     "execution_count": 34,
     "metadata": {},
     "output_type": "execute_result"
    }
   ],
   "source": [
    "#contribution des individus dans l'inertie totale\n",
    "\n",
    "X_données = np.sum(X_scaled**2,axis=1)\n",
    "contribution = pd.DataFrame({'billet':mesure.index,'contribution':X_données})\n",
    "contribution = contribution.sort_values(by = 'contribution', ascending = False)\n",
    "contribution"
   ]
  },
  {
   "cell_type": "code",
   "execution_count": 35,
   "metadata": {},
   "outputs": [
    {
     "data": {
      "text/html": [
       "<div>\n",
       "<style scoped>\n",
       "    .dataframe tbody tr th:only-of-type {\n",
       "        vertical-align: middle;\n",
       "    }\n",
       "\n",
       "    .dataframe tbody tr th {\n",
       "        vertical-align: top;\n",
       "    }\n",
       "\n",
       "    .dataframe thead th {\n",
       "        text-align: right;\n",
       "    }\n",
       "</style>\n",
       "<table border=\"1\" class=\"dataframe\">\n",
       "  <thead>\n",
       "    <tr style=\"text-align: right;\">\n",
       "      <th></th>\n",
       "      <th>id</th>\n",
       "      <th>CTR_1</th>\n",
       "      <th>CTR_2</th>\n",
       "      <th>CTR_TOT</th>\n",
       "    </tr>\n",
       "  </thead>\n",
       "  <tbody>\n",
       "    <tr>\n",
       "      <th>122</th>\n",
       "      <td>122</td>\n",
       "      <td>0.023758</td>\n",
       "      <td>0.012372</td>\n",
       "      <td>0.036131</td>\n",
       "    </tr>\n",
       "    <tr>\n",
       "      <th>49</th>\n",
       "      <td>49</td>\n",
       "      <td>0.019620</td>\n",
       "      <td>0.007487</td>\n",
       "      <td>0.027108</td>\n",
       "    </tr>\n",
       "    <tr>\n",
       "      <th>29</th>\n",
       "      <td>29</td>\n",
       "      <td>0.018089</td>\n",
       "      <td>0.000038</td>\n",
       "      <td>0.018126</td>\n",
       "    </tr>\n",
       "    <tr>\n",
       "      <th>112</th>\n",
       "      <td>112</td>\n",
       "      <td>0.017950</td>\n",
       "      <td>0.016259</td>\n",
       "      <td>0.034209</td>\n",
       "    </tr>\n",
       "    <tr>\n",
       "      <th>158</th>\n",
       "      <td>158</td>\n",
       "      <td>0.015836</td>\n",
       "      <td>0.002423</td>\n",
       "      <td>0.018259</td>\n",
       "    </tr>\n",
       "    <tr>\n",
       "      <th>...</th>\n",
       "      <td>...</td>\n",
       "      <td>...</td>\n",
       "      <td>...</td>\n",
       "      <td>...</td>\n",
       "    </tr>\n",
       "    <tr>\n",
       "      <th>78</th>\n",
       "      <td>78</td>\n",
       "      <td>0.000059</td>\n",
       "      <td>0.006047</td>\n",
       "      <td>0.006106</td>\n",
       "    </tr>\n",
       "    <tr>\n",
       "      <th>12</th>\n",
       "      <td>12</td>\n",
       "      <td>0.000053</td>\n",
       "      <td>0.009140</td>\n",
       "      <td>0.009193</td>\n",
       "    </tr>\n",
       "    <tr>\n",
       "      <th>152</th>\n",
       "      <td>152</td>\n",
       "      <td>0.000038</td>\n",
       "      <td>0.018910</td>\n",
       "      <td>0.018948</td>\n",
       "    </tr>\n",
       "    <tr>\n",
       "      <th>27</th>\n",
       "      <td>27</td>\n",
       "      <td>0.000014</td>\n",
       "      <td>0.004179</td>\n",
       "      <td>0.004193</td>\n",
       "    </tr>\n",
       "    <tr>\n",
       "      <th>21</th>\n",
       "      <td>21</td>\n",
       "      <td>0.000002</td>\n",
       "      <td>0.025151</td>\n",
       "      <td>0.025153</td>\n",
       "    </tr>\n",
       "  </tbody>\n",
       "</table>\n",
       "<p>170 rows × 4 columns</p>\n",
       "</div>"
      ],
      "text/plain": [
       "      id     CTR_1     CTR_2   CTR_TOT\n",
       "122  122  0.023758  0.012372  0.036131\n",
       "49    49  0.019620  0.007487  0.027108\n",
       "29    29  0.018089  0.000038  0.018126\n",
       "112  112  0.017950  0.016259  0.034209\n",
       "158  158  0.015836  0.002423  0.018259\n",
       "..   ...       ...       ...       ...\n",
       "78    78  0.000059  0.006047  0.006106\n",
       "12    12  0.000053  0.009140  0.009193\n",
       "152  152  0.000038  0.018910  0.018948\n",
       "27    27  0.000014  0.004179  0.004193\n",
       "21    21  0.000002  0.025151  0.025153\n",
       "\n",
       "[170 rows x 4 columns]"
      ]
     },
     "execution_count": 35,
     "metadata": {},
     "output_type": "execute_result"
    }
   ],
   "source": [
    "#nombre d'observations\n",
    "n = mesure.shape[0]\n",
    "\n",
    "#instanciation\n",
    "acp = PCA(svd_solver='full')\n",
    "\n",
    "#calculs\n",
    "coord = acp.fit_transform(X_scaled)\n",
    "\n",
    "#valeur corrigée\n",
    "eigval = (n-1)/n*acp.explained_variance_\n",
    "\n",
    "#contributions aux axes\n",
    "ctr = coord**2\n",
    "for j in range(n_comp):\n",
    " ctr[:,j] = ctr[:,j]/(n*eigval[j])\n",
    "\n",
    "contribution_axes = pd.DataFrame({'id':mesure.index,'CTR_1':ctr[:,0],'CTR_2':ctr[:,1]})\n",
    "contribution_axes['CTR_TOT'] = contribution_axes['CTR_1'] + contribution_axes['CTR_2']\n",
    "contribution_axes = contribution_axes.sort_values(by = 'CTR_1', ascending = False)\n",
    "contribution_axes"
   ]
  },
  {
   "cell_type": "code",
   "execution_count": 36,
   "metadata": {},
   "outputs": [
    {
     "data": {
      "text/html": [
       "<div>\n",
       "<style scoped>\n",
       "    .dataframe tbody tr th:only-of-type {\n",
       "        vertical-align: middle;\n",
       "    }\n",
       "\n",
       "    .dataframe tbody tr th {\n",
       "        vertical-align: top;\n",
       "    }\n",
       "\n",
       "    .dataframe thead th {\n",
       "        text-align: right;\n",
       "    }\n",
       "</style>\n",
       "<table border=\"1\" class=\"dataframe\">\n",
       "  <thead>\n",
       "    <tr style=\"text-align: right;\">\n",
       "      <th></th>\n",
       "      <th>id</th>\n",
       "      <th>CTR_1</th>\n",
       "      <th>CTR_2</th>\n",
       "      <th>CTR_TOT</th>\n",
       "    </tr>\n",
       "  </thead>\n",
       "  <tbody>\n",
       "    <tr>\n",
       "      <th>5</th>\n",
       "      <td>5</td>\n",
       "      <td>0.003155</td>\n",
       "      <td>0.039736</td>\n",
       "      <td>0.042891</td>\n",
       "    </tr>\n",
       "    <tr>\n",
       "      <th>166</th>\n",
       "      <td>166</td>\n",
       "      <td>0.013811</td>\n",
       "      <td>0.037927</td>\n",
       "      <td>0.051737</td>\n",
       "    </tr>\n",
       "    <tr>\n",
       "      <th>34</th>\n",
       "      <td>34</td>\n",
       "      <td>0.000073</td>\n",
       "      <td>0.033302</td>\n",
       "      <td>0.033375</td>\n",
       "    </tr>\n",
       "    <tr>\n",
       "      <th>156</th>\n",
       "      <td>156</td>\n",
       "      <td>0.000211</td>\n",
       "      <td>0.032264</td>\n",
       "      <td>0.032475</td>\n",
       "    </tr>\n",
       "    <tr>\n",
       "      <th>70</th>\n",
       "      <td>70</td>\n",
       "      <td>0.002197</td>\n",
       "      <td>0.031516</td>\n",
       "      <td>0.033713</td>\n",
       "    </tr>\n",
       "    <tr>\n",
       "      <th>...</th>\n",
       "      <td>...</td>\n",
       "      <td>...</td>\n",
       "      <td>...</td>\n",
       "      <td>...</td>\n",
       "    </tr>\n",
       "    <tr>\n",
       "      <th>16</th>\n",
       "      <td>16</td>\n",
       "      <td>0.003041</td>\n",
       "      <td>0.000006</td>\n",
       "      <td>0.003047</td>\n",
       "    </tr>\n",
       "    <tr>\n",
       "      <th>35</th>\n",
       "      <td>35</td>\n",
       "      <td>0.000180</td>\n",
       "      <td>0.000005</td>\n",
       "      <td>0.000186</td>\n",
       "    </tr>\n",
       "    <tr>\n",
       "      <th>31</th>\n",
       "      <td>31</td>\n",
       "      <td>0.008929</td>\n",
       "      <td>0.000003</td>\n",
       "      <td>0.008932</td>\n",
       "    </tr>\n",
       "    <tr>\n",
       "      <th>80</th>\n",
       "      <td>80</td>\n",
       "      <td>0.001956</td>\n",
       "      <td>0.000003</td>\n",
       "      <td>0.001959</td>\n",
       "    </tr>\n",
       "    <tr>\n",
       "      <th>137</th>\n",
       "      <td>137</td>\n",
       "      <td>0.013277</td>\n",
       "      <td>0.000002</td>\n",
       "      <td>0.013278</td>\n",
       "    </tr>\n",
       "  </tbody>\n",
       "</table>\n",
       "<p>170 rows × 4 columns</p>\n",
       "</div>"
      ],
      "text/plain": [
       "      id     CTR_1     CTR_2   CTR_TOT\n",
       "5      5  0.003155  0.039736  0.042891\n",
       "166  166  0.013811  0.037927  0.051737\n",
       "34    34  0.000073  0.033302  0.033375\n",
       "156  156  0.000211  0.032264  0.032475\n",
       "70    70  0.002197  0.031516  0.033713\n",
       "..   ...       ...       ...       ...\n",
       "16    16  0.003041  0.000006  0.003047\n",
       "35    35  0.000180  0.000005  0.000186\n",
       "31    31  0.008929  0.000003  0.008932\n",
       "80    80  0.001956  0.000003  0.001959\n",
       "137  137  0.013277  0.000002  0.013278\n",
       "\n",
       "[170 rows x 4 columns]"
      ]
     },
     "execution_count": 36,
     "metadata": {},
     "output_type": "execute_result"
    }
   ],
   "source": [
    "contribution_axes = contribution_axes.sort_values(by = 'CTR_2', ascending = False)\n",
    "contribution_axes"
   ]
  },
  {
   "cell_type": "code",
   "execution_count": 37,
   "metadata": {},
   "outputs": [
    {
     "data": {
      "text/html": [
       "<div>\n",
       "<style scoped>\n",
       "    .dataframe tbody tr th:only-of-type {\n",
       "        vertical-align: middle;\n",
       "    }\n",
       "\n",
       "    .dataframe tbody tr th {\n",
       "        vertical-align: top;\n",
       "    }\n",
       "\n",
       "    .dataframe thead th {\n",
       "        text-align: right;\n",
       "    }\n",
       "</style>\n",
       "<table border=\"1\" class=\"dataframe\">\n",
       "  <thead>\n",
       "    <tr style=\"text-align: right;\">\n",
       "      <th></th>\n",
       "      <th>id</th>\n",
       "      <th>CTR_1</th>\n",
       "      <th>CTR_2</th>\n",
       "      <th>CTR_TOT</th>\n",
       "    </tr>\n",
       "  </thead>\n",
       "  <tbody>\n",
       "    <tr>\n",
       "      <th>166</th>\n",
       "      <td>166</td>\n",
       "      <td>0.013811</td>\n",
       "      <td>0.037927</td>\n",
       "      <td>0.051737</td>\n",
       "    </tr>\n",
       "    <tr>\n",
       "      <th>5</th>\n",
       "      <td>5</td>\n",
       "      <td>0.003155</td>\n",
       "      <td>0.039736</td>\n",
       "      <td>0.042891</td>\n",
       "    </tr>\n",
       "    <tr>\n",
       "      <th>122</th>\n",
       "      <td>122</td>\n",
       "      <td>0.023758</td>\n",
       "      <td>0.012372</td>\n",
       "      <td>0.036131</td>\n",
       "    </tr>\n",
       "    <tr>\n",
       "      <th>112</th>\n",
       "      <td>112</td>\n",
       "      <td>0.017950</td>\n",
       "      <td>0.016259</td>\n",
       "      <td>0.034209</td>\n",
       "    </tr>\n",
       "    <tr>\n",
       "      <th>70</th>\n",
       "      <td>70</td>\n",
       "      <td>0.002197</td>\n",
       "      <td>0.031516</td>\n",
       "      <td>0.033713</td>\n",
       "    </tr>\n",
       "    <tr>\n",
       "      <th>...</th>\n",
       "      <td>...</td>\n",
       "      <td>...</td>\n",
       "      <td>...</td>\n",
       "      <td>...</td>\n",
       "    </tr>\n",
       "    <tr>\n",
       "      <th>72</th>\n",
       "      <td>72</td>\n",
       "      <td>0.001306</td>\n",
       "      <td>0.000087</td>\n",
       "      <td>0.001393</td>\n",
       "    </tr>\n",
       "    <tr>\n",
       "      <th>76</th>\n",
       "      <td>76</td>\n",
       "      <td>0.000987</td>\n",
       "      <td>0.000307</td>\n",
       "      <td>0.001294</td>\n",
       "    </tr>\n",
       "    <tr>\n",
       "      <th>69</th>\n",
       "      <td>69</td>\n",
       "      <td>0.001211</td>\n",
       "      <td>0.000024</td>\n",
       "      <td>0.001235</td>\n",
       "    </tr>\n",
       "    <tr>\n",
       "      <th>43</th>\n",
       "      <td>43</td>\n",
       "      <td>0.000162</td>\n",
       "      <td>0.000572</td>\n",
       "      <td>0.000734</td>\n",
       "    </tr>\n",
       "    <tr>\n",
       "      <th>35</th>\n",
       "      <td>35</td>\n",
       "      <td>0.000180</td>\n",
       "      <td>0.000005</td>\n",
       "      <td>0.000186</td>\n",
       "    </tr>\n",
       "  </tbody>\n",
       "</table>\n",
       "<p>170 rows × 4 columns</p>\n",
       "</div>"
      ],
      "text/plain": [
       "      id     CTR_1     CTR_2   CTR_TOT\n",
       "166  166  0.013811  0.037927  0.051737\n",
       "5      5  0.003155  0.039736  0.042891\n",
       "122  122  0.023758  0.012372  0.036131\n",
       "112  112  0.017950  0.016259  0.034209\n",
       "70    70  0.002197  0.031516  0.033713\n",
       "..   ...       ...       ...       ...\n",
       "72    72  0.001306  0.000087  0.001393\n",
       "76    76  0.000987  0.000307  0.001294\n",
       "69    69  0.001211  0.000024  0.001235\n",
       "43    43  0.000162  0.000572  0.000734\n",
       "35    35  0.000180  0.000005  0.000186\n",
       "\n",
       "[170 rows x 4 columns]"
      ]
     },
     "execution_count": 37,
     "metadata": {},
     "output_type": "execute_result"
    }
   ],
   "source": [
    "contribution_axes = contribution_axes.sort_values(by = 'CTR_TOT', ascending = False)\n",
    "contribution_axes"
   ]
  },
  {
   "cell_type": "code",
   "execution_count": 38,
   "metadata": {},
   "outputs": [
    {
     "name": "stdout",
     "output_type": "stream",
     "text": [
      "Total_CTR_1 1.0000000000000009\n",
      "Total_CTR_2 0.9999999999999997\n"
     ]
    }
   ],
   "source": [
    "Total_CTR_1 = contribution_axes['CTR_1'].sum()\n",
    "Total_CTR_2 = contribution_axes['CTR_2'].sum()\n",
    "\n",
    "print (\"Total_CTR_1\",Total_CTR_1)\n",
    "print (\"Total_CTR_2\",Total_CTR_2)"
   ]
  },
  {
   "cell_type": "markdown",
   "metadata": {},
   "source": [
    "Nous pouvons donc constater qu'il n'y a pas de valeur extreme au niveau de la contribution des individus sur les deux axes du premier plan factoriel. Le CTR_1 le plus élevé est de 0.023758 soit uniquement 4 fois la valeur théorique de 1/170. Le billet le plus représenté sur l'axe 2 a une valeur de 0.039736 soit 6,7 fois la valeur théorique. "
   ]
  },
  {
   "cell_type": "code",
   "execution_count": 39,
   "metadata": {},
   "outputs": [
    {
     "data": {
      "image/png": "[encoded data removed]",
      "text/plain": [
       "<Figure size 576x432 with 1 Axes>"
      ]
     },
     "metadata": {
      "needs_background": "light"
     },
     "output_type": "display_data"
    }
   ],
   "source": [
    "cont = contribution_axes['CTR_1'].values\n",
    "lorenz = np.cumsum(np.sort(cont)) / cont.sum()\n",
    "lorenz = np.append([0],lorenz) # La courbe de Lorenz commence à 0\n",
    "\n",
    "\n",
    "plt.figure(figsize=(8, 6))\n",
    "plt.title('Lorenz - Contribution par billet',fontsize=14) \n",
    "xaxis = np.linspace(0,1,len(lorenz)) #Il y a un segment de taille n pour chaque individu, plus 1 segment supplémentaire d'ordonnée 0. Le premier segment commence à 0-1/n, et le dernier termine à 1+1/n.\n",
    "plt.plot(xaxis,lorenz,drawstyle='steps-post')\n",
    "\n",
    "plt.fill_between(xaxis,xaxis,lorenz, color='powderblue')\n",
    "plt.show()"
   ]
  },
  {
   "cell_type": "code",
   "execution_count": 40,
   "metadata": {},
   "outputs": [
    {
     "data": {
      "text/plain": [
       "0.44942622332517224"
      ]
     },
     "execution_count": 40,
     "metadata": {},
     "output_type": "execute_result"
    }
   ],
   "source": [
    "AUC = (lorenz.sum() -lorenz[-1]/2 -lorenz[0]/2)/n \n",
    "S = 0.5 - AUC \n",
    "gini = 2*S\n",
    "gini"
   ]
  },
  {
   "cell_type": "code",
   "execution_count": 41,
   "metadata": {},
   "outputs": [
    {
     "data": {
      "image/png": "[encoded data removed]",
      "text/plain": [
       "<Figure size 576x432 with 1 Axes>"
      ]
     },
     "metadata": {
      "needs_background": "light"
     },
     "output_type": "display_data"
    }
   ],
   "source": [
    "cont = contribution_axes['CTR_2'].values\n",
    "lorenz = np.cumsum(np.sort(cont)) / cont.sum()\n",
    "lorenz = np.append([0],lorenz) # La courbe de Lorenz commence à 0\n",
    "\n",
    "\n",
    "plt.figure(figsize=(8, 6))\n",
    "plt.title('Lorenz - Contribution par billet',fontsize=14) \n",
    "xaxis = np.linspace(0,1,len(lorenz)) #Il y a un segment de taille n pour chaque individu, plus 1 segment supplémentaire d'ordonnée 0. Le premier segment commence à 0-1/n, et le dernier termine à 1+1/n.\n",
    "plt.plot(xaxis,lorenz,drawstyle='steps-post')\n",
    "\n",
    "plt.fill_between(xaxis,xaxis,lorenz, color='powderblue')\n",
    "plt.show()"
   ]
  },
  {
   "cell_type": "code",
   "execution_count": 42,
   "metadata": {},
   "outputs": [
    {
     "data": {
      "text/plain": [
       "0.6319230178845875"
      ]
     },
     "execution_count": 42,
     "metadata": {},
     "output_type": "execute_result"
    }
   ],
   "source": [
    "AUC = (lorenz.sum() -lorenz[-1]/2 -lorenz[0]/2)/n \n",
    "S = 0.5 - AUC \n",
    "gini = 2*S\n",
    "gini"
   ]
  },
  {
   "cell_type": "code",
   "execution_count": 43,
   "metadata": {},
   "outputs": [
    {
     "data": {
      "image/png": "[encoded data removed]",
      "text/plain": [
       "<Figure size 576x432 with 1 Axes>"
      ]
     },
     "metadata": {
      "needs_background": "light"
     },
     "output_type": "display_data"
    }
   ],
   "source": [
    "cont = contribution_axes['CTR_TOT'].values\n",
    "lorenz = np.cumsum(np.sort(cont)) / cont.sum()\n",
    "lorenz = np.append([0],lorenz) # La courbe de Lorenz commence à 0\n",
    "\n",
    "\n",
    "plt.figure(figsize=(8, 6))\n",
    "plt.title('Lorenz - Contribution par billet',fontsize=14) \n",
    "xaxis = np.linspace(0,1,len(lorenz)) #Il y a un segment de taille n pour chaque individu, plus 1 segment supplémentaire d'ordonnée 0. Le premier segment commence à 0-1/n, et le dernier termine à 1+1/n.\n",
    "plt.plot(xaxis,lorenz,drawstyle='steps-post')\n",
    "\n",
    "plt.fill_between(xaxis,xaxis,lorenz, color='powderblue')\n",
    "plt.show()"
   ]
  },
  {
   "cell_type": "code",
   "execution_count": 44,
   "metadata": {},
   "outputs": [
    {
     "data": {
      "text/plain": [
       "0.3720868169736644"
      ]
     },
     "execution_count": 44,
     "metadata": {},
     "output_type": "execute_result"
    }
   ],
   "source": [
    "AUC = (lorenz.sum() -lorenz[-1]/2 -lorenz[0]/2)/n \n",
    "S = 0.5 - AUC \n",
    "gini = 2*S\n",
    "gini"
   ]
  },
  {
   "cell_type": "markdown",
   "metadata": {},
   "source": [
    "Entre 0 et 1, l'inégalité est d'autant plus forte que l'indice de Gini est élevé. On peut constater que malgré le poids de chacun des individus sur chaque AXE, la répartition générale est équilibrée. "
   ]
  },
  {
   "cell_type": "code",
   "execution_count": 45,
   "metadata": {},
   "outputs": [
    {
     "data": {
      "text/html": [
       "<div>\n",
       "<style scoped>\n",
       "    .dataframe tbody tr th:only-of-type {\n",
       "        vertical-align: middle;\n",
       "    }\n",
       "\n",
       "    .dataframe tbody tr th {\n",
       "        vertical-align: top;\n",
       "    }\n",
       "\n",
       "    .dataframe thead th {\n",
       "        text-align: right;\n",
       "    }\n",
       "</style>\n",
       "<table border=\"1\" class=\"dataframe\">\n",
       "  <thead>\n",
       "    <tr style=\"text-align: right;\">\n",
       "      <th></th>\n",
       "      <th>billet</th>\n",
       "      <th>COS2_1</th>\n",
       "      <th>COS2_2</th>\n",
       "      <th>COS_TOT</th>\n",
       "    </tr>\n",
       "  </thead>\n",
       "  <tbody>\n",
       "    <tr>\n",
       "      <th>148</th>\n",
       "      <td>148</td>\n",
       "      <td>0.578193</td>\n",
       "      <td>0.410807</td>\n",
       "      <td>0.989001</td>\n",
       "    </tr>\n",
       "    <tr>\n",
       "      <th>143</th>\n",
       "      <td>143</td>\n",
       "      <td>0.973456</td>\n",
       "      <td>0.007584</td>\n",
       "      <td>0.981040</td>\n",
       "    </tr>\n",
       "    <tr>\n",
       "      <th>46</th>\n",
       "      <td>46</td>\n",
       "      <td>0.962296</td>\n",
       "      <td>0.003343</td>\n",
       "      <td>0.965639</td>\n",
       "    </tr>\n",
       "    <tr>\n",
       "      <th>45</th>\n",
       "      <td>45</td>\n",
       "      <td>0.631308</td>\n",
       "      <td>0.331305</td>\n",
       "      <td>0.962613</td>\n",
       "    </tr>\n",
       "    <tr>\n",
       "      <th>154</th>\n",
       "      <td>154</td>\n",
       "      <td>0.542732</td>\n",
       "      <td>0.417831</td>\n",
       "      <td>0.960564</td>\n",
       "    </tr>\n",
       "    <tr>\n",
       "      <th>...</th>\n",
       "      <td>...</td>\n",
       "      <td>...</td>\n",
       "      <td>...</td>\n",
       "      <td>...</td>\n",
       "    </tr>\n",
       "    <tr>\n",
       "      <th>52</th>\n",
       "      <td>52</td>\n",
       "      <td>0.076673</td>\n",
       "      <td>0.106134</td>\n",
       "      <td>0.182807</td>\n",
       "    </tr>\n",
       "    <tr>\n",
       "      <th>88</th>\n",
       "      <td>88</td>\n",
       "      <td>0.023273</td>\n",
       "      <td>0.135767</td>\n",
       "      <td>0.159040</td>\n",
       "    </tr>\n",
       "    <tr>\n",
       "      <th>160</th>\n",
       "      <td>160</td>\n",
       "      <td>0.068742</td>\n",
       "      <td>0.042901</td>\n",
       "      <td>0.111643</td>\n",
       "    </tr>\n",
       "    <tr>\n",
       "      <th>43</th>\n",
       "      <td>43</td>\n",
       "      <td>0.038755</td>\n",
       "      <td>0.063289</td>\n",
       "      <td>0.102043</td>\n",
       "    </tr>\n",
       "    <tr>\n",
       "      <th>35</th>\n",
       "      <td>35</td>\n",
       "      <td>0.024786</td>\n",
       "      <td>0.000346</td>\n",
       "      <td>0.025132</td>\n",
       "    </tr>\n",
       "  </tbody>\n",
       "</table>\n",
       "<p>170 rows × 4 columns</p>\n",
       "</div>"
      ],
      "text/plain": [
       "     billet    COS2_1    COS2_2   COS_TOT\n",
       "148     148  0.578193  0.410807  0.989001\n",
       "143     143  0.973456  0.007584  0.981040\n",
       "46       46  0.962296  0.003343  0.965639\n",
       "45       45  0.631308  0.331305  0.962613\n",
       "154     154  0.542732  0.417831  0.960564\n",
       "..      ...       ...       ...       ...\n",
       "52       52  0.076673  0.106134  0.182807\n",
       "88       88  0.023273  0.135767  0.159040\n",
       "160     160  0.068742  0.042901  0.111643\n",
       "43       43  0.038755  0.063289  0.102043\n",
       "35       35  0.024786  0.000346  0.025132\n",
       "\n",
       "[170 rows x 4 columns]"
      ]
     },
     "execution_count": 45,
     "metadata": {},
     "output_type": "execute_result"
    }
   ],
   "source": [
    "#qualité de représentation des individus - COS2\n",
    "\n",
    "cos2 = X_projected**2\n",
    "for j in range(n_comp):\n",
    " cos2[:,j] = cos2[:,j]/X_données\n",
    "cosinus_CAR = pd.DataFrame({'billet':mesure.index,'COS2_1':cos2[:,0],'COS2_2':cos2[:,1]})\n",
    "\n",
    "cosinus_CAR['COS_TOT'] = cosinus_CAR['COS2_1'] + cosinus_CAR['COS2_2']\n",
    "cosinus_CAR = cosinus_CAR.sort_values(by = 'COS_TOT', ascending = False)\n",
    "cosinus_CAR"
   ]
  },
  {
   "cell_type": "code",
   "execution_count": 46,
   "metadata": {},
   "outputs": [
    {
     "data": {
      "text/plain": [
       "0.7333683958309807"
      ]
     },
     "execution_count": 46,
     "metadata": {},
     "output_type": "execute_result"
    }
   ],
   "source": [
    "medians_R = cosinus_CAR['COS_TOT'].median()\n",
    "medians_R"
   ]
  },
  {
   "cell_type": "code",
   "execution_count": 47,
   "metadata": {},
   "outputs": [
    {
     "data": {
      "image/png": "[encoded data removed]",
      "text/plain": [
       "<Figure size 576x432 with 1 Axes>"
      ]
     },
     "metadata": {
      "needs_background": "light"
     },
     "output_type": "display_data"
    }
   ],
   "source": [
    "plt.figure(figsize=(8,6))\n",
    "\n",
    "medianprops = {'color':\"DarkBlue\"}\n",
    "meanprops = {'marker':'o', 'markeredgecolor':'Green',\n",
    "            'markerfacecolor':'coral'}\n",
    "\n",
    "plt.title('Qualité de représentation des individus',fontsize=14) \n",
    "cosinus_CAR.boxplot(column=\"COS_TOT\", vert=False,showfliers=True)\n",
    "\n",
    "plt.show()"
   ]
  },
  {
   "cell_type": "code",
   "execution_count": 48,
   "metadata": {},
   "outputs": [
    {
     "data": {
      "text/plain": [
       "count    170.000000\n",
       "mean       0.687011\n",
       "std        0.213613\n",
       "min        0.025132\n",
       "25%        0.531490\n",
       "50%        0.733368\n",
       "75%        0.854762\n",
       "max        0.989001\n",
       "Name: COS_TOT, dtype: float64"
      ]
     },
     "execution_count": 48,
     "metadata": {},
     "output_type": "execute_result"
    }
   ],
   "source": [
    "cosinus_CAR.COS_TOT.describe()"
   ]
  },
  {
   "cell_type": "code",
   "execution_count": 49,
   "metadata": {},
   "outputs": [
    {
     "name": "stdout",
     "output_type": "stream",
     "text": [
      "[1. 1. 1. 1. 1. 1. 1. 1. 1. 1. 1. 1. 1. 1. 1. 1. 1. 1. 1. 1. 1. 1. 1. 1.\n",
      " 1. 1. 1. 1. 1. 1. 1. 1. 1. 1. 1. 1. 1. 1. 1. 1. 1. 1. 1. 1. 1. 1. 1. 1.\n",
      " 1. 1. 1. 1. 1. 1. 1. 1. 1. 1. 1. 1. 1. 1. 1. 1. 1. 1. 1. 1. 1. 1. 1. 1.\n",
      " 1. 1. 1. 1. 1. 1. 1. 1. 1. 1. 1. 1. 1. 1. 1. 1. 1. 1. 1. 1. 1. 1. 1. 1.\n",
      " 1. 1. 1. 1. 1. 1. 1. 1. 1. 1. 1. 1. 1. 1. 1. 1. 1. 1. 1. 1. 1. 1. 1. 1.\n",
      " 1. 1. 1. 1. 1. 1. 1. 1. 1. 1. 1. 1. 1. 1. 1. 1. 1. 1. 1. 1. 1. 1. 1. 1.\n",
      " 1. 1. 1. 1. 1. 1. 1. 1. 1. 1. 1. 1. 1. 1. 1. 1. 1. 1. 1. 1. 1. 1. 1. 1.\n",
      " 1. 1.]\n"
     ]
    }
   ],
   "source": [
    "#vérifions la théorie - somme en ligne des cos2 = 1\n",
    "\n",
    "print(np.sum(cos2,axis=1))"
   ]
  },
  {
   "cell_type": "code",
   "execution_count": 50,
   "metadata": {},
   "outputs": [
    {
     "data": {
      "text/html": [
       "<div>\n",
       "<style scoped>\n",
       "    .dataframe tbody tr th:only-of-type {\n",
       "        vertical-align: middle;\n",
       "    }\n",
       "\n",
       "    .dataframe tbody tr th {\n",
       "        vertical-align: top;\n",
       "    }\n",
       "\n",
       "    .dataframe thead th {\n",
       "        text-align: right;\n",
       "    }\n",
       "</style>\n",
       "<table border=\"1\" class=\"dataframe\">\n",
       "  <thead>\n",
       "    <tr style=\"text-align: right;\">\n",
       "      <th></th>\n",
       "      <th>billet</th>\n",
       "      <th>COS2_1</th>\n",
       "      <th>COS2_2</th>\n",
       "      <th>COS_TOT</th>\n",
       "      <th>is_genuine</th>\n",
       "      <th>diagonal</th>\n",
       "      <th>height_left</th>\n",
       "      <th>height_right</th>\n",
       "      <th>margin_low</th>\n",
       "      <th>margin_up</th>\n",
       "      <th>length</th>\n",
       "    </tr>\n",
       "  </thead>\n",
       "  <tbody>\n",
       "    <tr>\n",
       "      <th>0</th>\n",
       "      <td>148</td>\n",
       "      <td>0.578193</td>\n",
       "      <td>0.410807</td>\n",
       "      <td>0.989001</td>\n",
       "      <td>False</td>\n",
       "      <td>171.67</td>\n",
       "      <td>104.16</td>\n",
       "      <td>104.08</td>\n",
       "      <td>5.42</td>\n",
       "      <td>3.30</td>\n",
       "      <td>111.63</td>\n",
       "    </tr>\n",
       "    <tr>\n",
       "      <th>1</th>\n",
       "      <td>143</td>\n",
       "      <td>0.973456</td>\n",
       "      <td>0.007584</td>\n",
       "      <td>0.981040</td>\n",
       "      <td>False</td>\n",
       "      <td>172.00</td>\n",
       "      <td>104.46</td>\n",
       "      <td>104.30</td>\n",
       "      <td>5.27</td>\n",
       "      <td>3.37</td>\n",
       "      <td>111.85</td>\n",
       "    </tr>\n",
       "    <tr>\n",
       "      <th>2</th>\n",
       "      <td>46</td>\n",
       "      <td>0.962296</td>\n",
       "      <td>0.003343</td>\n",
       "      <td>0.965639</td>\n",
       "      <td>True</td>\n",
       "      <td>171.85</td>\n",
       "      <td>103.90</td>\n",
       "      <td>103.74</td>\n",
       "      <td>4.13</td>\n",
       "      <td>3.07</td>\n",
       "      <td>113.15</td>\n",
       "    </tr>\n",
       "    <tr>\n",
       "      <th>3</th>\n",
       "      <td>45</td>\n",
       "      <td>0.631308</td>\n",
       "      <td>0.331305</td>\n",
       "      <td>0.962613</td>\n",
       "      <td>True</td>\n",
       "      <td>171.44</td>\n",
       "      <td>103.52</td>\n",
       "      <td>103.49</td>\n",
       "      <td>4.09</td>\n",
       "      <td>3.12</td>\n",
       "      <td>113.23</td>\n",
       "    </tr>\n",
       "    <tr>\n",
       "      <th>4</th>\n",
       "      <td>154</td>\n",
       "      <td>0.542732</td>\n",
       "      <td>0.417831</td>\n",
       "      <td>0.960564</td>\n",
       "      <td>False</td>\n",
       "      <td>171.62</td>\n",
       "      <td>104.21</td>\n",
       "      <td>103.99</td>\n",
       "      <td>5.50</td>\n",
       "      <td>3.45</td>\n",
       "      <td>111.35</td>\n",
       "    </tr>\n",
       "    <tr>\n",
       "      <th>...</th>\n",
       "      <td>...</td>\n",
       "      <td>...</td>\n",
       "      <td>...</td>\n",
       "      <td>...</td>\n",
       "      <td>...</td>\n",
       "      <td>...</td>\n",
       "      <td>...</td>\n",
       "      <td>...</td>\n",
       "      <td>...</td>\n",
       "      <td>...</td>\n",
       "      <td>...</td>\n",
       "    </tr>\n",
       "    <tr>\n",
       "      <th>165</th>\n",
       "      <td>52</td>\n",
       "      <td>0.076673</td>\n",
       "      <td>0.106134</td>\n",
       "      <td>0.182807</td>\n",
       "      <td>True</td>\n",
       "      <td>171.59</td>\n",
       "      <td>104.06</td>\n",
       "      <td>103.99</td>\n",
       "      <td>3.93</td>\n",
       "      <td>3.24</td>\n",
       "      <td>112.80</td>\n",
       "    </tr>\n",
       "    <tr>\n",
       "      <th>166</th>\n",
       "      <td>88</td>\n",
       "      <td>0.023273</td>\n",
       "      <td>0.135767</td>\n",
       "      <td>0.159040</td>\n",
       "      <td>True</td>\n",
       "      <td>171.91</td>\n",
       "      <td>104.28</td>\n",
       "      <td>103.92</td>\n",
       "      <td>3.64</td>\n",
       "      <td>3.36</td>\n",
       "      <td>113.15</td>\n",
       "    </tr>\n",
       "    <tr>\n",
       "      <th>167</th>\n",
       "      <td>160</td>\n",
       "      <td>0.068742</td>\n",
       "      <td>0.042901</td>\n",
       "      <td>0.111643</td>\n",
       "      <td>False</td>\n",
       "      <td>172.50</td>\n",
       "      <td>104.07</td>\n",
       "      <td>103.71</td>\n",
       "      <td>3.82</td>\n",
       "      <td>3.63</td>\n",
       "      <td>110.74</td>\n",
       "    </tr>\n",
       "    <tr>\n",
       "      <th>168</th>\n",
       "      <td>43</td>\n",
       "      <td>0.038755</td>\n",
       "      <td>0.063289</td>\n",
       "      <td>0.102043</td>\n",
       "      <td>True</td>\n",
       "      <td>171.91</td>\n",
       "      <td>104.34</td>\n",
       "      <td>103.77</td>\n",
       "      <td>4.45</td>\n",
       "      <td>2.95</td>\n",
       "      <td>112.66</td>\n",
       "    </tr>\n",
       "    <tr>\n",
       "      <th>169</th>\n",
       "      <td>35</td>\n",
       "      <td>0.024786</td>\n",
       "      <td>0.000346</td>\n",
       "      <td>0.025132</td>\n",
       "      <td>True</td>\n",
       "      <td>171.66</td>\n",
       "      <td>104.17</td>\n",
       "      <td>104.16</td>\n",
       "      <td>4.75</td>\n",
       "      <td>2.94</td>\n",
       "      <td>113.52</td>\n",
       "    </tr>\n",
       "  </tbody>\n",
       "</table>\n",
       "<p>170 rows × 11 columns</p>\n",
       "</div>"
      ],
      "text/plain": [
       "     billet    COS2_1    COS2_2   COS_TOT  is_genuine  diagonal  height_left  \\\n",
       "0       148  0.578193  0.410807  0.989001       False    171.67       104.16   \n",
       "1       143  0.973456  0.007584  0.981040       False    172.00       104.46   \n",
       "2        46  0.962296  0.003343  0.965639        True    171.85       103.90   \n",
       "3        45  0.631308  0.331305  0.962613        True    171.44       103.52   \n",
       "4       154  0.542732  0.417831  0.960564       False    171.62       104.21   \n",
       "..      ...       ...       ...       ...         ...       ...          ...   \n",
       "165      52  0.076673  0.106134  0.182807        True    171.59       104.06   \n",
       "166      88  0.023273  0.135767  0.159040        True    171.91       104.28   \n",
       "167     160  0.068742  0.042901  0.111643       False    172.50       104.07   \n",
       "168      43  0.038755  0.063289  0.102043        True    171.91       104.34   \n",
       "169      35  0.024786  0.000346  0.025132        True    171.66       104.17   \n",
       "\n",
       "     height_right  margin_low  margin_up  length  \n",
       "0          104.08        5.42       3.30  111.63  \n",
       "1          104.30        5.27       3.37  111.85  \n",
       "2          103.74        4.13       3.07  113.15  \n",
       "3          103.49        4.09       3.12  113.23  \n",
       "4          103.99        5.50       3.45  111.35  \n",
       "..            ...         ...        ...     ...  \n",
       "165        103.99        3.93       3.24  112.80  \n",
       "166        103.92        3.64       3.36  113.15  \n",
       "167        103.71        3.82       3.63  110.74  \n",
       "168        103.77        4.45       2.95  112.66  \n",
       "169        104.16        4.75       2.94  113.52  \n",
       "\n",
       "[170 rows x 11 columns]"
      ]
     },
     "execution_count": 50,
     "metadata": {},
     "output_type": "execute_result"
    }
   ],
   "source": [
    "notes_R = notes.copy()\n",
    "notes_R['billet'] = notes_R.index\n",
    "\n",
    "MQR = pd.merge(cosinus_CAR, notes_R, on='billet')\n",
    "MQR"
   ]
  },
  {
   "cell_type": "code",
   "execution_count": 51,
   "metadata": {},
   "outputs": [],
   "source": [
    "def QR (row):\n",
    "   if row['COS_TOT'] >= medians_R and row['is_genuine'] == True :\n",
    "      return 'True_B' \n",
    "   if row['COS_TOT'] >= medians_R and row['is_genuine'] == False :\n",
    "      return 'False_B' \n",
    "   if row['COS_TOT'] < medians_R and row['is_genuine'] == False :\n",
    "      return 'False_M'\n",
    "   if row['COS_TOT'] < medians_R and row['is_genuine'] == True :\n",
    "      return 'True_M'"
   ]
  },
  {
   "cell_type": "code",
   "execution_count": 52,
   "metadata": {},
   "outputs": [
    {
     "data": {
      "text/html": [
       "<div>\n",
       "<style scoped>\n",
       "    .dataframe tbody tr th:only-of-type {\n",
       "        vertical-align: middle;\n",
       "    }\n",
       "\n",
       "    .dataframe tbody tr th {\n",
       "        vertical-align: top;\n",
       "    }\n",
       "\n",
       "    .dataframe thead th {\n",
       "        text-align: right;\n",
       "    }\n",
       "</style>\n",
       "<table border=\"1\" class=\"dataframe\">\n",
       "  <thead>\n",
       "    <tr style=\"text-align: right;\">\n",
       "      <th></th>\n",
       "      <th>billet</th>\n",
       "      <th>COS2_1</th>\n",
       "      <th>COS2_2</th>\n",
       "      <th>COS_TOT</th>\n",
       "      <th>is_genuine</th>\n",
       "      <th>diagonal</th>\n",
       "      <th>height_left</th>\n",
       "      <th>height_right</th>\n",
       "      <th>margin_low</th>\n",
       "      <th>margin_up</th>\n",
       "      <th>length</th>\n",
       "      <th>Représentation</th>\n",
       "    </tr>\n",
       "  </thead>\n",
       "  <tbody>\n",
       "    <tr>\n",
       "      <th>0</th>\n",
       "      <td>148</td>\n",
       "      <td>0.578193</td>\n",
       "      <td>0.410807</td>\n",
       "      <td>0.989001</td>\n",
       "      <td>False</td>\n",
       "      <td>171.67</td>\n",
       "      <td>104.16</td>\n",
       "      <td>104.08</td>\n",
       "      <td>5.42</td>\n",
       "      <td>3.30</td>\n",
       "      <td>111.63</td>\n",
       "      <td>False_B</td>\n",
       "    </tr>\n",
       "    <tr>\n",
       "      <th>1</th>\n",
       "      <td>143</td>\n",
       "      <td>0.973456</td>\n",
       "      <td>0.007584</td>\n",
       "      <td>0.981040</td>\n",
       "      <td>False</td>\n",
       "      <td>172.00</td>\n",
       "      <td>104.46</td>\n",
       "      <td>104.30</td>\n",
       "      <td>5.27</td>\n",
       "      <td>3.37</td>\n",
       "      <td>111.85</td>\n",
       "      <td>False_B</td>\n",
       "    </tr>\n",
       "    <tr>\n",
       "      <th>2</th>\n",
       "      <td>46</td>\n",
       "      <td>0.962296</td>\n",
       "      <td>0.003343</td>\n",
       "      <td>0.965639</td>\n",
       "      <td>True</td>\n",
       "      <td>171.85</td>\n",
       "      <td>103.90</td>\n",
       "      <td>103.74</td>\n",
       "      <td>4.13</td>\n",
       "      <td>3.07</td>\n",
       "      <td>113.15</td>\n",
       "      <td>True_B</td>\n",
       "    </tr>\n",
       "    <tr>\n",
       "      <th>3</th>\n",
       "      <td>45</td>\n",
       "      <td>0.631308</td>\n",
       "      <td>0.331305</td>\n",
       "      <td>0.962613</td>\n",
       "      <td>True</td>\n",
       "      <td>171.44</td>\n",
       "      <td>103.52</td>\n",
       "      <td>103.49</td>\n",
       "      <td>4.09</td>\n",
       "      <td>3.12</td>\n",
       "      <td>113.23</td>\n",
       "      <td>True_B</td>\n",
       "    </tr>\n",
       "    <tr>\n",
       "      <th>4</th>\n",
       "      <td>154</td>\n",
       "      <td>0.542732</td>\n",
       "      <td>0.417831</td>\n",
       "      <td>0.960564</td>\n",
       "      <td>False</td>\n",
       "      <td>171.62</td>\n",
       "      <td>104.21</td>\n",
       "      <td>103.99</td>\n",
       "      <td>5.50</td>\n",
       "      <td>3.45</td>\n",
       "      <td>111.35</td>\n",
       "      <td>False_B</td>\n",
       "    </tr>\n",
       "    <tr>\n",
       "      <th>...</th>\n",
       "      <td>...</td>\n",
       "      <td>...</td>\n",
       "      <td>...</td>\n",
       "      <td>...</td>\n",
       "      <td>...</td>\n",
       "      <td>...</td>\n",
       "      <td>...</td>\n",
       "      <td>...</td>\n",
       "      <td>...</td>\n",
       "      <td>...</td>\n",
       "      <td>...</td>\n",
       "      <td>...</td>\n",
       "    </tr>\n",
       "    <tr>\n",
       "      <th>165</th>\n",
       "      <td>52</td>\n",
       "      <td>0.076673</td>\n",
       "      <td>0.106134</td>\n",
       "      <td>0.182807</td>\n",
       "      <td>True</td>\n",
       "      <td>171.59</td>\n",
       "      <td>104.06</td>\n",
       "      <td>103.99</td>\n",
       "      <td>3.93</td>\n",
       "      <td>3.24</td>\n",
       "      <td>112.80</td>\n",
       "      <td>True_M</td>\n",
       "    </tr>\n",
       "    <tr>\n",
       "      <th>166</th>\n",
       "      <td>88</td>\n",
       "      <td>0.023273</td>\n",
       "      <td>0.135767</td>\n",
       "      <td>0.159040</td>\n",
       "      <td>True</td>\n",
       "      <td>171.91</td>\n",
       "      <td>104.28</td>\n",
       "      <td>103.92</td>\n",
       "      <td>3.64</td>\n",
       "      <td>3.36</td>\n",
       "      <td>113.15</td>\n",
       "      <td>True_M</td>\n",
       "    </tr>\n",
       "    <tr>\n",
       "      <th>167</th>\n",
       "      <td>160</td>\n",
       "      <td>0.068742</td>\n",
       "      <td>0.042901</td>\n",
       "      <td>0.111643</td>\n",
       "      <td>False</td>\n",
       "      <td>172.50</td>\n",
       "      <td>104.07</td>\n",
       "      <td>103.71</td>\n",
       "      <td>3.82</td>\n",
       "      <td>3.63</td>\n",
       "      <td>110.74</td>\n",
       "      <td>False_M</td>\n",
       "    </tr>\n",
       "    <tr>\n",
       "      <th>168</th>\n",
       "      <td>43</td>\n",
       "      <td>0.038755</td>\n",
       "      <td>0.063289</td>\n",
       "      <td>0.102043</td>\n",
       "      <td>True</td>\n",
       "      <td>171.91</td>\n",
       "      <td>104.34</td>\n",
       "      <td>103.77</td>\n",
       "      <td>4.45</td>\n",
       "      <td>2.95</td>\n",
       "      <td>112.66</td>\n",
       "      <td>True_M</td>\n",
       "    </tr>\n",
       "    <tr>\n",
       "      <th>169</th>\n",
       "      <td>35</td>\n",
       "      <td>0.024786</td>\n",
       "      <td>0.000346</td>\n",
       "      <td>0.025132</td>\n",
       "      <td>True</td>\n",
       "      <td>171.66</td>\n",
       "      <td>104.17</td>\n",
       "      <td>104.16</td>\n",
       "      <td>4.75</td>\n",
       "      <td>2.94</td>\n",
       "      <td>113.52</td>\n",
       "      <td>True_M</td>\n",
       "    </tr>\n",
       "  </tbody>\n",
       "</table>\n",
       "<p>170 rows × 12 columns</p>\n",
       "</div>"
      ],
      "text/plain": [
       "     billet    COS2_1    COS2_2   COS_TOT  is_genuine  diagonal  height_left  \\\n",
       "0       148  0.578193  0.410807  0.989001       False    171.67       104.16   \n",
       "1       143  0.973456  0.007584  0.981040       False    172.00       104.46   \n",
       "2        46  0.962296  0.003343  0.965639        True    171.85       103.90   \n",
       "3        45  0.631308  0.331305  0.962613        True    171.44       103.52   \n",
       "4       154  0.542732  0.417831  0.960564       False    171.62       104.21   \n",
       "..      ...       ...       ...       ...         ...       ...          ...   \n",
       "165      52  0.076673  0.106134  0.182807        True    171.59       104.06   \n",
       "166      88  0.023273  0.135767  0.159040        True    171.91       104.28   \n",
       "167     160  0.068742  0.042901  0.111643       False    172.50       104.07   \n",
       "168      43  0.038755  0.063289  0.102043        True    171.91       104.34   \n",
       "169      35  0.024786  0.000346  0.025132        True    171.66       104.17   \n",
       "\n",
       "     height_right  margin_low  margin_up  length Représentation  \n",
       "0          104.08        5.42       3.30  111.63        False_B  \n",
       "1          104.30        5.27       3.37  111.85        False_B  \n",
       "2          103.74        4.13       3.07  113.15         True_B  \n",
       "3          103.49        4.09       3.12  113.23         True_B  \n",
       "4          103.99        5.50       3.45  111.35        False_B  \n",
       "..            ...         ...        ...     ...            ...  \n",
       "165        103.99        3.93       3.24  112.80         True_M  \n",
       "166        103.92        3.64       3.36  113.15         True_M  \n",
       "167        103.71        3.82       3.63  110.74        False_M  \n",
       "168        103.77        4.45       2.95  112.66         True_M  \n",
       "169        104.16        4.75       2.94  113.52         True_M  \n",
       "\n",
       "[170 rows x 12 columns]"
      ]
     },
     "execution_count": 52,
     "metadata": {},
     "output_type": "execute_result"
    }
   ],
   "source": [
    "MQR['Représentation'] = MQR.apply (lambda row: QR (row),axis=1)\n",
    "MQR"
   ]
  },
  {
   "cell_type": "code",
   "execution_count": 53,
   "metadata": {},
   "outputs": [
    {
     "data": {
      "text/html": [
       "<div>\n",
       "<style scoped>\n",
       "    .dataframe tbody tr th:only-of-type {\n",
       "        vertical-align: middle;\n",
       "    }\n",
       "\n",
       "    .dataframe tbody tr th {\n",
       "        vertical-align: top;\n",
       "    }\n",
       "\n",
       "    .dataframe thead th {\n",
       "        text-align: right;\n",
       "    }\n",
       "</style>\n",
       "<table border=\"1\" class=\"dataframe\">\n",
       "  <thead>\n",
       "    <tr style=\"text-align: right;\">\n",
       "      <th></th>\n",
       "      <th>diagonal</th>\n",
       "      <th>height_left</th>\n",
       "      <th>height_right</th>\n",
       "      <th>margin_low</th>\n",
       "      <th>margin_up</th>\n",
       "      <th>length</th>\n",
       "      <th>Représentation</th>\n",
       "    </tr>\n",
       "  </thead>\n",
       "  <tbody>\n",
       "    <tr>\n",
       "      <th>0</th>\n",
       "      <td>171.67</td>\n",
       "      <td>104.16</td>\n",
       "      <td>104.08</td>\n",
       "      <td>5.42</td>\n",
       "      <td>3.30</td>\n",
       "      <td>111.63</td>\n",
       "      <td>False_B</td>\n",
       "    </tr>\n",
       "    <tr>\n",
       "      <th>1</th>\n",
       "      <td>172.00</td>\n",
       "      <td>104.46</td>\n",
       "      <td>104.30</td>\n",
       "      <td>5.27</td>\n",
       "      <td>3.37</td>\n",
       "      <td>111.85</td>\n",
       "      <td>False_B</td>\n",
       "    </tr>\n",
       "    <tr>\n",
       "      <th>2</th>\n",
       "      <td>171.85</td>\n",
       "      <td>103.90</td>\n",
       "      <td>103.74</td>\n",
       "      <td>4.13</td>\n",
       "      <td>3.07</td>\n",
       "      <td>113.15</td>\n",
       "      <td>True_B</td>\n",
       "    </tr>\n",
       "    <tr>\n",
       "      <th>3</th>\n",
       "      <td>171.44</td>\n",
       "      <td>103.52</td>\n",
       "      <td>103.49</td>\n",
       "      <td>4.09</td>\n",
       "      <td>3.12</td>\n",
       "      <td>113.23</td>\n",
       "      <td>True_B</td>\n",
       "    </tr>\n",
       "    <tr>\n",
       "      <th>4</th>\n",
       "      <td>171.62</td>\n",
       "      <td>104.21</td>\n",
       "      <td>103.99</td>\n",
       "      <td>5.50</td>\n",
       "      <td>3.45</td>\n",
       "      <td>111.35</td>\n",
       "      <td>False_B</td>\n",
       "    </tr>\n",
       "    <tr>\n",
       "      <th>...</th>\n",
       "      <td>...</td>\n",
       "      <td>...</td>\n",
       "      <td>...</td>\n",
       "      <td>...</td>\n",
       "      <td>...</td>\n",
       "      <td>...</td>\n",
       "      <td>...</td>\n",
       "    </tr>\n",
       "    <tr>\n",
       "      <th>165</th>\n",
       "      <td>171.59</td>\n",
       "      <td>104.06</td>\n",
       "      <td>103.99</td>\n",
       "      <td>3.93</td>\n",
       "      <td>3.24</td>\n",
       "      <td>112.80</td>\n",
       "      <td>True_M</td>\n",
       "    </tr>\n",
       "    <tr>\n",
       "      <th>166</th>\n",
       "      <td>171.91</td>\n",
       "      <td>104.28</td>\n",
       "      <td>103.92</td>\n",
       "      <td>3.64</td>\n",
       "      <td>3.36</td>\n",
       "      <td>113.15</td>\n",
       "      <td>True_M</td>\n",
       "    </tr>\n",
       "    <tr>\n",
       "      <th>167</th>\n",
       "      <td>172.50</td>\n",
       "      <td>104.07</td>\n",
       "      <td>103.71</td>\n",
       "      <td>3.82</td>\n",
       "      <td>3.63</td>\n",
       "      <td>110.74</td>\n",
       "      <td>False_M</td>\n",
       "    </tr>\n",
       "    <tr>\n",
       "      <th>168</th>\n",
       "      <td>171.91</td>\n",
       "      <td>104.34</td>\n",
       "      <td>103.77</td>\n",
       "      <td>4.45</td>\n",
       "      <td>2.95</td>\n",
       "      <td>112.66</td>\n",
       "      <td>True_M</td>\n",
       "    </tr>\n",
       "    <tr>\n",
       "      <th>169</th>\n",
       "      <td>171.66</td>\n",
       "      <td>104.17</td>\n",
       "      <td>104.16</td>\n",
       "      <td>4.75</td>\n",
       "      <td>2.94</td>\n",
       "      <td>113.52</td>\n",
       "      <td>True_M</td>\n",
       "    </tr>\n",
       "  </tbody>\n",
       "</table>\n",
       "<p>170 rows × 7 columns</p>\n",
       "</div>"
      ],
      "text/plain": [
       "     diagonal  height_left  height_right  margin_low  margin_up  length  \\\n",
       "0      171.67       104.16        104.08        5.42       3.30  111.63   \n",
       "1      172.00       104.46        104.30        5.27       3.37  111.85   \n",
       "2      171.85       103.90        103.74        4.13       3.07  113.15   \n",
       "3      171.44       103.52        103.49        4.09       3.12  113.23   \n",
       "4      171.62       104.21        103.99        5.50       3.45  111.35   \n",
       "..        ...          ...           ...         ...        ...     ...   \n",
       "165    171.59       104.06        103.99        3.93       3.24  112.80   \n",
       "166    171.91       104.28        103.92        3.64       3.36  113.15   \n",
       "167    172.50       104.07        103.71        3.82       3.63  110.74   \n",
       "168    171.91       104.34        103.77        4.45       2.95  112.66   \n",
       "169    171.66       104.17        104.16        4.75       2.94  113.52   \n",
       "\n",
       "    Représentation  \n",
       "0          False_B  \n",
       "1          False_B  \n",
       "2           True_B  \n",
       "3           True_B  \n",
       "4          False_B  \n",
       "..             ...  \n",
       "165         True_M  \n",
       "166         True_M  \n",
       "167        False_M  \n",
       "168         True_M  \n",
       "169         True_M  \n",
       "\n",
       "[170 rows x 7 columns]"
      ]
     },
     "execution_count": 53,
     "metadata": {},
     "output_type": "execute_result"
    }
   ],
   "source": [
    "MQR = MQR.drop([\"billet\", \"COS2_1\", \"COS2_2\", \"COS_TOT\", \"is_genuine\"], axis=1)\n",
    "MQR"
   ]
  },
  {
   "cell_type": "code",
   "execution_count": 54,
   "metadata": {},
   "outputs": [
    {
     "data": {
      "image/png": "[encoded data removed]",
      "text/plain": [
       "<Figure size 576x432 with 1 Axes>"
      ]
     },
     "metadata": {
      "needs_background": "light"
     },
     "output_type": "display_data"
    }
   ],
   "source": [
    "# Affichage du clustering par projection des individus sur le premier plan factoriel\n",
    "\n",
    "billets = MQR['Représentation']\n",
    "\n",
    "plt.figure(figsize=(8, 6))\n",
    "sns.scatterplot(X_projected[:, 0], X_projected[:, 1], hue=billets, cmap = 'jet', palette=\"bright\")\n",
    "plt.title(\"Projection des {} individus sur le 1e plan factoriel\".format(X_projected.shape[0]))\n",
    "plt.show(block=False)"
   ]
  },
  {
   "cell_type": "code",
   "execution_count": 55,
   "metadata": {},
   "outputs": [
    {
     "data": {
      "image/png": "[encoded data removed]",
      "text/plain": [
       "<Figure size 576x432 with 1 Axes>"
      ]
     },
     "metadata": {
      "needs_background": "light"
     },
     "output_type": "display_data"
    }
   ],
   "source": [
    "MQR_T = MQR.loc[~MQR[\"Représentation\"].isin(['True_M','False_M'])]\n",
    "MQR_B = MQR_T.drop([\"Représentation\"], axis=1)\n",
    "\n",
    "\n",
    "# préparation des données pour le clustering\n",
    "X_B = MQR_B.values\n",
    "names_B = MQR_B.index\n",
    "\n",
    "# Centrage et Réduction\n",
    "std_scale_B = preprocessing.StandardScaler().fit(X_B)\n",
    "X_scaled_B = std_scale_B.transform(X_B)\n",
    "\n",
    "# Affichage du clustering par projection des individus sur le premier plan factoriel\n",
    "billets_B = MQR_T['Représentation']\n",
    "X_projected_B = pca.transform(X_scaled_B)\n",
    "\n",
    "plt.figure(figsize=(8, 6))\n",
    "sns.scatterplot(X_projected_B[:, 0], X_projected_B[:, 1], hue=billets_B, cmap = 'jet', palette=\"bright\")\n",
    "plt.title(\"Projection des {} individus sur le 1e plan factoriel\".format(X_projected_B.shape[0]))\n",
    "plt.show(block=False)"
   ]
  },
  {
   "cell_type": "markdown",
   "metadata": {},
   "source": [
    "La moitié des billets ont une qualité de représentation supérieure à 73%, on peut donc valider la représentation."
   ]
  },
  {
   "cell_type": "markdown",
   "metadata": {},
   "source": [
    "## IV. Mission 2 <a class=\"anchor\" id=\"section_4\"></a>"
   ]
  },
  {
   "cell_type": "markdown",
   "metadata": {},
   "source": [
    "### 1) Application d'un algorithme de classification / Le K-means <a class=\"anchor\" id=\"section_4_1\"></a> "
   ]
  },
  {
   "cell_type": "code",
   "execution_count": 56,
   "metadata": {},
   "outputs": [
    {
     "data": {
      "text/html": [
       "<div>\n",
       "<style scoped>\n",
       "    .dataframe tbody tr th:only-of-type {\n",
       "        vertical-align: middle;\n",
       "    }\n",
       "\n",
       "    .dataframe tbody tr th {\n",
       "        vertical-align: top;\n",
       "    }\n",
       "\n",
       "    .dataframe thead th {\n",
       "        text-align: right;\n",
       "    }\n",
       "</style>\n",
       "<table border=\"1\" class=\"dataframe\">\n",
       "  <thead>\n",
       "    <tr style=\"text-align: right;\">\n",
       "      <th></th>\n",
       "      <th>diagonal</th>\n",
       "      <th>height_left</th>\n",
       "      <th>height_right</th>\n",
       "      <th>margin_low</th>\n",
       "      <th>margin_up</th>\n",
       "      <th>length</th>\n",
       "      <th>cluster_k</th>\n",
       "    </tr>\n",
       "  </thead>\n",
       "  <tbody>\n",
       "    <tr>\n",
       "      <th>0</th>\n",
       "      <td>171.81</td>\n",
       "      <td>104.86</td>\n",
       "      <td>104.95</td>\n",
       "      <td>4.52</td>\n",
       "      <td>2.89</td>\n",
       "      <td>112.83</td>\n",
       "      <td>1</td>\n",
       "    </tr>\n",
       "    <tr>\n",
       "      <th>1</th>\n",
       "      <td>171.67</td>\n",
       "      <td>103.74</td>\n",
       "      <td>103.70</td>\n",
       "      <td>4.01</td>\n",
       "      <td>2.87</td>\n",
       "      <td>113.29</td>\n",
       "      <td>0</td>\n",
       "    </tr>\n",
       "    <tr>\n",
       "      <th>2</th>\n",
       "      <td>171.83</td>\n",
       "      <td>103.76</td>\n",
       "      <td>103.76</td>\n",
       "      <td>4.40</td>\n",
       "      <td>2.88</td>\n",
       "      <td>113.84</td>\n",
       "      <td>0</td>\n",
       "    </tr>\n",
       "    <tr>\n",
       "      <th>3</th>\n",
       "      <td>171.80</td>\n",
       "      <td>103.78</td>\n",
       "      <td>103.65</td>\n",
       "      <td>3.73</td>\n",
       "      <td>3.12</td>\n",
       "      <td>113.63</td>\n",
       "      <td>0</td>\n",
       "    </tr>\n",
       "    <tr>\n",
       "      <th>4</th>\n",
       "      <td>172.05</td>\n",
       "      <td>103.70</td>\n",
       "      <td>103.75</td>\n",
       "      <td>5.04</td>\n",
       "      <td>2.27</td>\n",
       "      <td>113.55</td>\n",
       "      <td>0</td>\n",
       "    </tr>\n",
       "    <tr>\n",
       "      <th>...</th>\n",
       "      <td>...</td>\n",
       "      <td>...</td>\n",
       "      <td>...</td>\n",
       "      <td>...</td>\n",
       "      <td>...</td>\n",
       "      <td>...</td>\n",
       "      <td>...</td>\n",
       "    </tr>\n",
       "    <tr>\n",
       "      <th>165</th>\n",
       "      <td>172.11</td>\n",
       "      <td>104.23</td>\n",
       "      <td>104.45</td>\n",
       "      <td>5.24</td>\n",
       "      <td>3.58</td>\n",
       "      <td>111.78</td>\n",
       "      <td>1</td>\n",
       "    </tr>\n",
       "    <tr>\n",
       "      <th>166</th>\n",
       "      <td>173.01</td>\n",
       "      <td>104.59</td>\n",
       "      <td>104.31</td>\n",
       "      <td>5.04</td>\n",
       "      <td>3.05</td>\n",
       "      <td>110.91</td>\n",
       "      <td>1</td>\n",
       "    </tr>\n",
       "    <tr>\n",
       "      <th>167</th>\n",
       "      <td>172.47</td>\n",
       "      <td>104.27</td>\n",
       "      <td>104.10</td>\n",
       "      <td>4.88</td>\n",
       "      <td>3.33</td>\n",
       "      <td>110.68</td>\n",
       "      <td>1</td>\n",
       "    </tr>\n",
       "    <tr>\n",
       "      <th>168</th>\n",
       "      <td>171.82</td>\n",
       "      <td>103.97</td>\n",
       "      <td>103.88</td>\n",
       "      <td>4.73</td>\n",
       "      <td>3.55</td>\n",
       "      <td>111.87</td>\n",
       "      <td>1</td>\n",
       "    </tr>\n",
       "    <tr>\n",
       "      <th>169</th>\n",
       "      <td>171.96</td>\n",
       "      <td>104.00</td>\n",
       "      <td>103.95</td>\n",
       "      <td>5.63</td>\n",
       "      <td>3.26</td>\n",
       "      <td>110.96</td>\n",
       "      <td>1</td>\n",
       "    </tr>\n",
       "  </tbody>\n",
       "</table>\n",
       "<p>170 rows × 7 columns</p>\n",
       "</div>"
      ],
      "text/plain": [
       "     diagonal  height_left  height_right  margin_low  margin_up  length  \\\n",
       "0      171.81       104.86        104.95        4.52       2.89  112.83   \n",
       "1      171.67       103.74        103.70        4.01       2.87  113.29   \n",
       "2      171.83       103.76        103.76        4.40       2.88  113.84   \n",
       "3      171.80       103.78        103.65        3.73       3.12  113.63   \n",
       "4      172.05       103.70        103.75        5.04       2.27  113.55   \n",
       "..        ...          ...           ...         ...        ...     ...   \n",
       "165    172.11       104.23        104.45        5.24       3.58  111.78   \n",
       "166    173.01       104.59        104.31        5.04       3.05  110.91   \n",
       "167    172.47       104.27        104.10        4.88       3.33  110.68   \n",
       "168    171.82       103.97        103.88        4.73       3.55  111.87   \n",
       "169    171.96       104.00        103.95        5.63       3.26  110.96   \n",
       "\n",
       "     cluster_k  \n",
       "0            1  \n",
       "1            0  \n",
       "2            0  \n",
       "3            0  \n",
       "4            0  \n",
       "..         ...  \n",
       "165          1  \n",
       "166          1  \n",
       "167          1  \n",
       "168          1  \n",
       "169          1  \n",
       "\n",
       "[170 rows x 7 columns]"
      ]
     },
     "execution_count": 56,
     "metadata": {},
     "output_type": "execute_result"
    }
   ],
   "source": [
    "# Nombre de clusters souhaités\n",
    "n_clust = 2\n",
    "\n",
    "# Clustering par K-means\n",
    "km = KMeans(n_clusters=n_clust)\n",
    "km.fit(X_scaled)\n",
    "\n",
    "# Récupération des clusters attribués à chaque individu\n",
    "clustersk = km.labels_\n",
    "clustersk\n",
    "\n",
    "mesure_K = mesure.copy()\n",
    "mesure_K['cluster_k'] = clustersk \n",
    "mesure_K"
   ]
  },
  {
   "cell_type": "code",
   "execution_count": 57,
   "metadata": {},
   "outputs": [
    {
     "data": {
      "image/png": "[encoded data removed]",
      "text/plain": [
       "<Figure size 576x432 with 1 Axes>"
      ]
     },
     "metadata": {
      "needs_background": "light"
     },
     "output_type": "display_data"
    }
   ],
   "source": [
    "# Affichage du clustering par projection des individus sur le premier plan factoriel\n",
    "Kmclust = mesure_K['cluster_k']\n",
    "\n",
    "plt.figure(figsize=(8, 6))\n",
    "sns.scatterplot(X_projected[:, 0], X_projected[:, 1], hue=Kmclust, cmap = 'jet', palette=\"bright\")\n",
    "plt.title(\"Projection des {} individus sur le 1e plan factoriel\".format(X_projected.shape[0]))\n",
    "plt.show(block=False)"
   ]
  },
  {
   "cell_type": "markdown",
   "metadata": {},
   "source": [
    "### 2) Test de comparaison <a class=\"anchor\" id=\"section_4_2\"></a> "
   ]
  },
  {
   "cell_type": "code",
   "execution_count": 58,
   "metadata": {},
   "outputs": [
    {
     "name": "stdout",
     "output_type": "stream",
     "text": [
      "is_genuine  False  True \n",
      "cluster_k               \n",
      "0               1     92\n",
      "1              69      8\n"
     ]
    }
   ],
   "source": [
    "#y (cluster) est la dernière colonne\n",
    "yTest = mesure_K['cluster_k']\n",
    "predSm = notes['is_genuine']\n",
    "\n",
    "\n",
    "#matrice de confusion\n",
    "mcSm = pd.crosstab(yTest,predSm)\n",
    "print(mcSm)"
   ]
  },
  {
   "cell_type": "code",
   "execution_count": 59,
   "metadata": {},
   "outputs": [
    {
     "data": {
      "text/html": [
       "<div>\n",
       "<style scoped>\n",
       "    .dataframe tbody tr th:only-of-type {\n",
       "        vertical-align: middle;\n",
       "    }\n",
       "\n",
       "    .dataframe tbody tr th {\n",
       "        vertical-align: top;\n",
       "    }\n",
       "\n",
       "    .dataframe thead th {\n",
       "        text-align: right;\n",
       "    }\n",
       "</style>\n",
       "<table border=\"1\" class=\"dataframe\">\n",
       "  <thead>\n",
       "    <tr style=\"text-align: right;\">\n",
       "      <th></th>\n",
       "      <th>diagonal</th>\n",
       "      <th>height_left</th>\n",
       "      <th>height_right</th>\n",
       "      <th>margin_low</th>\n",
       "      <th>margin_up</th>\n",
       "      <th>length</th>\n",
       "      <th>cluster_k</th>\n",
       "      <th>is_genuine</th>\n",
       "    </tr>\n",
       "  </thead>\n",
       "  <tbody>\n",
       "    <tr>\n",
       "      <th>0</th>\n",
       "      <td>171.81</td>\n",
       "      <td>104.86</td>\n",
       "      <td>104.95</td>\n",
       "      <td>4.52</td>\n",
       "      <td>2.89</td>\n",
       "      <td>112.83</td>\n",
       "      <td>1</td>\n",
       "      <td>True</td>\n",
       "    </tr>\n",
       "    <tr>\n",
       "      <th>1</th>\n",
       "      <td>171.67</td>\n",
       "      <td>103.74</td>\n",
       "      <td>103.70</td>\n",
       "      <td>4.01</td>\n",
       "      <td>2.87</td>\n",
       "      <td>113.29</td>\n",
       "      <td>0</td>\n",
       "      <td>True</td>\n",
       "    </tr>\n",
       "    <tr>\n",
       "      <th>2</th>\n",
       "      <td>171.83</td>\n",
       "      <td>103.76</td>\n",
       "      <td>103.76</td>\n",
       "      <td>4.40</td>\n",
       "      <td>2.88</td>\n",
       "      <td>113.84</td>\n",
       "      <td>0</td>\n",
       "      <td>True</td>\n",
       "    </tr>\n",
       "    <tr>\n",
       "      <th>3</th>\n",
       "      <td>171.80</td>\n",
       "      <td>103.78</td>\n",
       "      <td>103.65</td>\n",
       "      <td>3.73</td>\n",
       "      <td>3.12</td>\n",
       "      <td>113.63</td>\n",
       "      <td>0</td>\n",
       "      <td>True</td>\n",
       "    </tr>\n",
       "    <tr>\n",
       "      <th>4</th>\n",
       "      <td>172.05</td>\n",
       "      <td>103.70</td>\n",
       "      <td>103.75</td>\n",
       "      <td>5.04</td>\n",
       "      <td>2.27</td>\n",
       "      <td>113.55</td>\n",
       "      <td>0</td>\n",
       "      <td>True</td>\n",
       "    </tr>\n",
       "    <tr>\n",
       "      <th>...</th>\n",
       "      <td>...</td>\n",
       "      <td>...</td>\n",
       "      <td>...</td>\n",
       "      <td>...</td>\n",
       "      <td>...</td>\n",
       "      <td>...</td>\n",
       "      <td>...</td>\n",
       "      <td>...</td>\n",
       "    </tr>\n",
       "    <tr>\n",
       "      <th>165</th>\n",
       "      <td>172.11</td>\n",
       "      <td>104.23</td>\n",
       "      <td>104.45</td>\n",
       "      <td>5.24</td>\n",
       "      <td>3.58</td>\n",
       "      <td>111.78</td>\n",
       "      <td>1</td>\n",
       "      <td>False</td>\n",
       "    </tr>\n",
       "    <tr>\n",
       "      <th>166</th>\n",
       "      <td>173.01</td>\n",
       "      <td>104.59</td>\n",
       "      <td>104.31</td>\n",
       "      <td>5.04</td>\n",
       "      <td>3.05</td>\n",
       "      <td>110.91</td>\n",
       "      <td>1</td>\n",
       "      <td>False</td>\n",
       "    </tr>\n",
       "    <tr>\n",
       "      <th>167</th>\n",
       "      <td>172.47</td>\n",
       "      <td>104.27</td>\n",
       "      <td>104.10</td>\n",
       "      <td>4.88</td>\n",
       "      <td>3.33</td>\n",
       "      <td>110.68</td>\n",
       "      <td>1</td>\n",
       "      <td>False</td>\n",
       "    </tr>\n",
       "    <tr>\n",
       "      <th>168</th>\n",
       "      <td>171.82</td>\n",
       "      <td>103.97</td>\n",
       "      <td>103.88</td>\n",
       "      <td>4.73</td>\n",
       "      <td>3.55</td>\n",
       "      <td>111.87</td>\n",
       "      <td>1</td>\n",
       "      <td>False</td>\n",
       "    </tr>\n",
       "    <tr>\n",
       "      <th>169</th>\n",
       "      <td>171.96</td>\n",
       "      <td>104.00</td>\n",
       "      <td>103.95</td>\n",
       "      <td>5.63</td>\n",
       "      <td>3.26</td>\n",
       "      <td>110.96</td>\n",
       "      <td>1</td>\n",
       "      <td>False</td>\n",
       "    </tr>\n",
       "  </tbody>\n",
       "</table>\n",
       "<p>170 rows × 8 columns</p>\n",
       "</div>"
      ],
      "text/plain": [
       "     diagonal  height_left  height_right  margin_low  margin_up  length  \\\n",
       "0      171.81       104.86        104.95        4.52       2.89  112.83   \n",
       "1      171.67       103.74        103.70        4.01       2.87  113.29   \n",
       "2      171.83       103.76        103.76        4.40       2.88  113.84   \n",
       "3      171.80       103.78        103.65        3.73       3.12  113.63   \n",
       "4      172.05       103.70        103.75        5.04       2.27  113.55   \n",
       "..        ...          ...           ...         ...        ...     ...   \n",
       "165    172.11       104.23        104.45        5.24       3.58  111.78   \n",
       "166    173.01       104.59        104.31        5.04       3.05  110.91   \n",
       "167    172.47       104.27        104.10        4.88       3.33  110.68   \n",
       "168    171.82       103.97        103.88        4.73       3.55  111.87   \n",
       "169    171.96       104.00        103.95        5.63       3.26  110.96   \n",
       "\n",
       "     cluster_k  is_genuine  \n",
       "0            1        True  \n",
       "1            0        True  \n",
       "2            0        True  \n",
       "3            0        True  \n",
       "4            0        True  \n",
       "..         ...         ...  \n",
       "165          1       False  \n",
       "166          1       False  \n",
       "167          1       False  \n",
       "168          1       False  \n",
       "169          1       False  \n",
       "\n",
       "[170 rows x 8 columns]"
      ]
     },
     "execution_count": 59,
     "metadata": {},
     "output_type": "execute_result"
    }
   ],
   "source": [
    "rps = pd.merge(mesure_K, notes)\n",
    "rps"
   ]
  },
  {
   "cell_type": "code",
   "execution_count": 60,
   "metadata": {},
   "outputs": [],
   "source": [
    "def RPS (row):\n",
    "   if row['cluster_k'] == 1 and row['is_genuine'] == True :\n",
    "      return 'True_OK' \n",
    "   if row['cluster_k'] == 0 and row['is_genuine'] == True :\n",
    "      return 'True_NOK' \n",
    "   if row['cluster_k'] == 1 and row['is_genuine'] == False :\n",
    "      return 'False_NOK'\n",
    "   if row['cluster_k'] == 0 and row['is_genuine'] == False :\n",
    "      return 'False_OK'"
   ]
  },
  {
   "cell_type": "code",
   "execution_count": 61,
   "metadata": {},
   "outputs": [
    {
     "data": {
      "text/html": [
       "<div>\n",
       "<style scoped>\n",
       "    .dataframe tbody tr th:only-of-type {\n",
       "        vertical-align: middle;\n",
       "    }\n",
       "\n",
       "    .dataframe tbody tr th {\n",
       "        vertical-align: top;\n",
       "    }\n",
       "\n",
       "    .dataframe thead th {\n",
       "        text-align: right;\n",
       "    }\n",
       "</style>\n",
       "<table border=\"1\" class=\"dataframe\">\n",
       "  <thead>\n",
       "    <tr style=\"text-align: right;\">\n",
       "      <th></th>\n",
       "      <th>diagonal</th>\n",
       "      <th>height_left</th>\n",
       "      <th>height_right</th>\n",
       "      <th>margin_low</th>\n",
       "      <th>margin_up</th>\n",
       "      <th>length</th>\n",
       "      <th>cluster_k</th>\n",
       "      <th>is_genuine</th>\n",
       "      <th>Représentation</th>\n",
       "    </tr>\n",
       "  </thead>\n",
       "  <tbody>\n",
       "    <tr>\n",
       "      <th>0</th>\n",
       "      <td>171.81</td>\n",
       "      <td>104.86</td>\n",
       "      <td>104.95</td>\n",
       "      <td>4.52</td>\n",
       "      <td>2.89</td>\n",
       "      <td>112.83</td>\n",
       "      <td>1</td>\n",
       "      <td>True</td>\n",
       "      <td>True_OK</td>\n",
       "    </tr>\n",
       "    <tr>\n",
       "      <th>1</th>\n",
       "      <td>171.67</td>\n",
       "      <td>103.74</td>\n",
       "      <td>103.70</td>\n",
       "      <td>4.01</td>\n",
       "      <td>2.87</td>\n",
       "      <td>113.29</td>\n",
       "      <td>0</td>\n",
       "      <td>True</td>\n",
       "      <td>True_NOK</td>\n",
       "    </tr>\n",
       "    <tr>\n",
       "      <th>2</th>\n",
       "      <td>171.83</td>\n",
       "      <td>103.76</td>\n",
       "      <td>103.76</td>\n",
       "      <td>4.40</td>\n",
       "      <td>2.88</td>\n",
       "      <td>113.84</td>\n",
       "      <td>0</td>\n",
       "      <td>True</td>\n",
       "      <td>True_NOK</td>\n",
       "    </tr>\n",
       "    <tr>\n",
       "      <th>3</th>\n",
       "      <td>171.80</td>\n",
       "      <td>103.78</td>\n",
       "      <td>103.65</td>\n",
       "      <td>3.73</td>\n",
       "      <td>3.12</td>\n",
       "      <td>113.63</td>\n",
       "      <td>0</td>\n",
       "      <td>True</td>\n",
       "      <td>True_NOK</td>\n",
       "    </tr>\n",
       "    <tr>\n",
       "      <th>4</th>\n",
       "      <td>172.05</td>\n",
       "      <td>103.70</td>\n",
       "      <td>103.75</td>\n",
       "      <td>5.04</td>\n",
       "      <td>2.27</td>\n",
       "      <td>113.55</td>\n",
       "      <td>0</td>\n",
       "      <td>True</td>\n",
       "      <td>True_NOK</td>\n",
       "    </tr>\n",
       "    <tr>\n",
       "      <th>...</th>\n",
       "      <td>...</td>\n",
       "      <td>...</td>\n",
       "      <td>...</td>\n",
       "      <td>...</td>\n",
       "      <td>...</td>\n",
       "      <td>...</td>\n",
       "      <td>...</td>\n",
       "      <td>...</td>\n",
       "      <td>...</td>\n",
       "    </tr>\n",
       "    <tr>\n",
       "      <th>165</th>\n",
       "      <td>172.11</td>\n",
       "      <td>104.23</td>\n",
       "      <td>104.45</td>\n",
       "      <td>5.24</td>\n",
       "      <td>3.58</td>\n",
       "      <td>111.78</td>\n",
       "      <td>1</td>\n",
       "      <td>False</td>\n",
       "      <td>False_NOK</td>\n",
       "    </tr>\n",
       "    <tr>\n",
       "      <th>166</th>\n",
       "      <td>173.01</td>\n",
       "      <td>104.59</td>\n",
       "      <td>104.31</td>\n",
       "      <td>5.04</td>\n",
       "      <td>3.05</td>\n",
       "      <td>110.91</td>\n",
       "      <td>1</td>\n",
       "      <td>False</td>\n",
       "      <td>False_NOK</td>\n",
       "    </tr>\n",
       "    <tr>\n",
       "      <th>167</th>\n",
       "      <td>172.47</td>\n",
       "      <td>104.27</td>\n",
       "      <td>104.10</td>\n",
       "      <td>4.88</td>\n",
       "      <td>3.33</td>\n",
       "      <td>110.68</td>\n",
       "      <td>1</td>\n",
       "      <td>False</td>\n",
       "      <td>False_NOK</td>\n",
       "    </tr>\n",
       "    <tr>\n",
       "      <th>168</th>\n",
       "      <td>171.82</td>\n",
       "      <td>103.97</td>\n",
       "      <td>103.88</td>\n",
       "      <td>4.73</td>\n",
       "      <td>3.55</td>\n",
       "      <td>111.87</td>\n",
       "      <td>1</td>\n",
       "      <td>False</td>\n",
       "      <td>False_NOK</td>\n",
       "    </tr>\n",
       "    <tr>\n",
       "      <th>169</th>\n",
       "      <td>171.96</td>\n",
       "      <td>104.00</td>\n",
       "      <td>103.95</td>\n",
       "      <td>5.63</td>\n",
       "      <td>3.26</td>\n",
       "      <td>110.96</td>\n",
       "      <td>1</td>\n",
       "      <td>False</td>\n",
       "      <td>False_NOK</td>\n",
       "    </tr>\n",
       "  </tbody>\n",
       "</table>\n",
       "<p>170 rows × 9 columns</p>\n",
       "</div>"
      ],
      "text/plain": [
       "     diagonal  height_left  height_right  margin_low  margin_up  length  \\\n",
       "0      171.81       104.86        104.95        4.52       2.89  112.83   \n",
       "1      171.67       103.74        103.70        4.01       2.87  113.29   \n",
       "2      171.83       103.76        103.76        4.40       2.88  113.84   \n",
       "3      171.80       103.78        103.65        3.73       3.12  113.63   \n",
       "4      172.05       103.70        103.75        5.04       2.27  113.55   \n",
       "..        ...          ...           ...         ...        ...     ...   \n",
       "165    172.11       104.23        104.45        5.24       3.58  111.78   \n",
       "166    173.01       104.59        104.31        5.04       3.05  110.91   \n",
       "167    172.47       104.27        104.10        4.88       3.33  110.68   \n",
       "168    171.82       103.97        103.88        4.73       3.55  111.87   \n",
       "169    171.96       104.00        103.95        5.63       3.26  110.96   \n",
       "\n",
       "     cluster_k  is_genuine Représentation  \n",
       "0            1        True        True_OK  \n",
       "1            0        True       True_NOK  \n",
       "2            0        True       True_NOK  \n",
       "3            0        True       True_NOK  \n",
       "4            0        True       True_NOK  \n",
       "..         ...         ...            ...  \n",
       "165          1       False      False_NOK  \n",
       "166          1       False      False_NOK  \n",
       "167          1       False      False_NOK  \n",
       "168          1       False      False_NOK  \n",
       "169          1       False      False_NOK  \n",
       "\n",
       "[170 rows x 9 columns]"
      ]
     },
     "execution_count": 61,
     "metadata": {},
     "output_type": "execute_result"
    }
   ],
   "source": [
    "rps['Représentation'] = rps.apply (lambda row: RPS (row),axis=1)\n",
    "rps"
   ]
  },
  {
   "cell_type": "code",
   "execution_count": 62,
   "metadata": {},
   "outputs": [
    {
     "data": {
      "image/png": "[encoded data removed]",
      "text/plain": [
       "<Figure size 576x432 with 1 Axes>"
      ]
     },
     "metadata": {
      "needs_background": "light"
     },
     "output_type": "display_data"
    }
   ],
   "source": [
    "# Affichage du clustering par projection des individus sur le premier plan factoriel\n",
    "RPS_OK = rps['Représentation']\n",
    "\n",
    "plt.figure(figsize=(8, 6))\n",
    "sns.scatterplot(X_projected[:, 0], X_projected[:, 1], hue=RPS_OK, cmap = 'jet', palette=\"bright\")\n",
    "plt.title(\"Projection des {} individus sur le 1e plan factoriel\".format(X_projected.shape[0]))\n",
    "plt.show(block=False)"
   ]
  },
  {
   "cell_type": "markdown",
   "metadata": {},
   "source": [
    "On peut constater que le faux billet indiqué comme vrai par la classification du K-means est réellement placé pile entre les deux clusters. "
   ]
  },
  {
   "cell_type": "markdown",
   "metadata": {},
   "source": [
    "## V. Mission 3 <a class=\"anchor\" id=\"section_5\"></a>"
   ]
  },
  {
   "cell_type": "markdown",
   "metadata": {},
   "source": [
    "### 1) Régression logistique<a class=\"anchor\" id=\"section_5_1\"></a> "
   ]
  },
  {
   "cell_type": "code",
   "execution_count": 63,
   "metadata": {},
   "outputs": [
    {
     "data": {
      "text/html": [
       "<div>\n",
       "<style scoped>\n",
       "    .dataframe tbody tr th:only-of-type {\n",
       "        vertical-align: middle;\n",
       "    }\n",
       "\n",
       "    .dataframe tbody tr th {\n",
       "        vertical-align: top;\n",
       "    }\n",
       "\n",
       "    .dataframe thead th {\n",
       "        text-align: right;\n",
       "    }\n",
       "</style>\n",
       "<table border=\"1\" class=\"dataframe\">\n",
       "  <thead>\n",
       "    <tr style=\"text-align: right;\">\n",
       "      <th></th>\n",
       "      <th>is_genuine</th>\n",
       "      <th>diagonal</th>\n",
       "      <th>height_left</th>\n",
       "      <th>height_right</th>\n",
       "      <th>margin_low</th>\n",
       "      <th>margin_up</th>\n",
       "      <th>length</th>\n",
       "    </tr>\n",
       "  </thead>\n",
       "  <tbody>\n",
       "    <tr>\n",
       "      <th>0</th>\n",
       "      <td>1</td>\n",
       "      <td>171.81</td>\n",
       "      <td>104.86</td>\n",
       "      <td>104.95</td>\n",
       "      <td>4.52</td>\n",
       "      <td>2.89</td>\n",
       "      <td>112.83</td>\n",
       "    </tr>\n",
       "    <tr>\n",
       "      <th>1</th>\n",
       "      <td>1</td>\n",
       "      <td>171.67</td>\n",
       "      <td>103.74</td>\n",
       "      <td>103.70</td>\n",
       "      <td>4.01</td>\n",
       "      <td>2.87</td>\n",
       "      <td>113.29</td>\n",
       "    </tr>\n",
       "    <tr>\n",
       "      <th>2</th>\n",
       "      <td>1</td>\n",
       "      <td>171.83</td>\n",
       "      <td>103.76</td>\n",
       "      <td>103.76</td>\n",
       "      <td>4.40</td>\n",
       "      <td>2.88</td>\n",
       "      <td>113.84</td>\n",
       "    </tr>\n",
       "    <tr>\n",
       "      <th>3</th>\n",
       "      <td>1</td>\n",
       "      <td>171.80</td>\n",
       "      <td>103.78</td>\n",
       "      <td>103.65</td>\n",
       "      <td>3.73</td>\n",
       "      <td>3.12</td>\n",
       "      <td>113.63</td>\n",
       "    </tr>\n",
       "    <tr>\n",
       "      <th>4</th>\n",
       "      <td>1</td>\n",
       "      <td>172.05</td>\n",
       "      <td>103.70</td>\n",
       "      <td>103.75</td>\n",
       "      <td>5.04</td>\n",
       "      <td>2.27</td>\n",
       "      <td>113.55</td>\n",
       "    </tr>\n",
       "    <tr>\n",
       "      <th>...</th>\n",
       "      <td>...</td>\n",
       "      <td>...</td>\n",
       "      <td>...</td>\n",
       "      <td>...</td>\n",
       "      <td>...</td>\n",
       "      <td>...</td>\n",
       "      <td>...</td>\n",
       "    </tr>\n",
       "    <tr>\n",
       "      <th>165</th>\n",
       "      <td>0</td>\n",
       "      <td>172.11</td>\n",
       "      <td>104.23</td>\n",
       "      <td>104.45</td>\n",
       "      <td>5.24</td>\n",
       "      <td>3.58</td>\n",
       "      <td>111.78</td>\n",
       "    </tr>\n",
       "    <tr>\n",
       "      <th>166</th>\n",
       "      <td>0</td>\n",
       "      <td>173.01</td>\n",
       "      <td>104.59</td>\n",
       "      <td>104.31</td>\n",
       "      <td>5.04</td>\n",
       "      <td>3.05</td>\n",
       "      <td>110.91</td>\n",
       "    </tr>\n",
       "    <tr>\n",
       "      <th>167</th>\n",
       "      <td>0</td>\n",
       "      <td>172.47</td>\n",
       "      <td>104.27</td>\n",
       "      <td>104.10</td>\n",
       "      <td>4.88</td>\n",
       "      <td>3.33</td>\n",
       "      <td>110.68</td>\n",
       "    </tr>\n",
       "    <tr>\n",
       "      <th>168</th>\n",
       "      <td>0</td>\n",
       "      <td>171.82</td>\n",
       "      <td>103.97</td>\n",
       "      <td>103.88</td>\n",
       "      <td>4.73</td>\n",
       "      <td>3.55</td>\n",
       "      <td>111.87</td>\n",
       "    </tr>\n",
       "    <tr>\n",
       "      <th>169</th>\n",
       "      <td>0</td>\n",
       "      <td>171.96</td>\n",
       "      <td>104.00</td>\n",
       "      <td>103.95</td>\n",
       "      <td>5.63</td>\n",
       "      <td>3.26</td>\n",
       "      <td>110.96</td>\n",
       "    </tr>\n",
       "  </tbody>\n",
       "</table>\n",
       "<p>170 rows × 7 columns</p>\n",
       "</div>"
      ],
      "text/plain": [
       "     is_genuine  diagonal  height_left  height_right  margin_low  margin_up  \\\n",
       "0             1    171.81       104.86        104.95        4.52       2.89   \n",
       "1             1    171.67       103.74        103.70        4.01       2.87   \n",
       "2             1    171.83       103.76        103.76        4.40       2.88   \n",
       "3             1    171.80       103.78        103.65        3.73       3.12   \n",
       "4             1    172.05       103.70        103.75        5.04       2.27   \n",
       "..          ...       ...          ...           ...         ...        ...   \n",
       "165           0    172.11       104.23        104.45        5.24       3.58   \n",
       "166           0    173.01       104.59        104.31        5.04       3.05   \n",
       "167           0    172.47       104.27        104.10        4.88       3.33   \n",
       "168           0    171.82       103.97        103.88        4.73       3.55   \n",
       "169           0    171.96       104.00        103.95        5.63       3.26   \n",
       "\n",
       "     length  \n",
       "0    112.83  \n",
       "1    113.29  \n",
       "2    113.84  \n",
       "3    113.63  \n",
       "4    113.55  \n",
       "..      ...  \n",
       "165  111.78  \n",
       "166  110.91  \n",
       "167  110.68  \n",
       "168  111.87  \n",
       "169  110.96  \n",
       "\n",
       "[170 rows x 7 columns]"
      ]
     },
     "execution_count": 63,
     "metadata": {},
     "output_type": "execute_result"
    }
   ],
   "source": [
    "notes_L = notes.copy()\n",
    "notes_L[\"is_genuine\"] = notes_L[\"is_genuine\"].astype(int)\n",
    "notes_L"
   ]
  },
  {
   "cell_type": "code",
   "execution_count": 64,
   "metadata": {},
   "outputs": [],
   "source": [
    "# Séparation de notre dataframe en deux, un échantillon observations de 80% et un échantillon test de 20%\n",
    "\n",
    "obsv_vf, test = train_test_split(notes_L, test_size=0.20, random_state=42, shuffle=True)"
   ]
  },
  {
   "cell_type": "code",
   "execution_count": 65,
   "metadata": {},
   "outputs": [
    {
     "name": "stdout",
     "output_type": "stream",
     "text": [
      "                 Generalized Linear Model Regression Results                  \n",
      "==============================================================================\n",
      "Dep. Variable:             is_genuine   No. Observations:                  136\n",
      "Model:                            GLM   Df Residuals:                      130\n",
      "Model Family:                Binomial   Df Model:                            5\n",
      "Link Function:                  logit   Scale:                          1.0000\n",
      "Method:                          IRLS   Log-Likelihood:                -5.5123\n",
      "Date:                Mon, 12 Apr 2021   Deviance:                       11.025\n",
      "Time:                        07:50:30   Pearson chi2:                     9.91\n",
      "No. Iterations:                    11                                         \n",
      "Covariance Type:            nonrobust                                         \n",
      "================================================================================\n",
      "                   coef    std err          z      P>|z|      [0.025      0.975]\n",
      "--------------------------------------------------------------------------------\n",
      "Intercept      509.8405    635.208      0.803      0.422    -735.144    1754.825\n",
      "diagonal        -3.6180      3.901     -0.928      0.354     -11.263       4.027\n",
      "height_left      6.4082      6.388      1.003      0.316      -6.111      18.928\n",
      "height_right    -3.2037      5.731     -0.559      0.576     -14.437       8.029\n",
      "margin_low     -21.9171     11.322     -1.936      0.053     -44.108       0.274\n",
      "margin_up      -38.4616     19.839     -1.939      0.053     -77.345       0.422\n",
      "================================================================================\n"
     ]
    }
   ],
   "source": [
    "# Methode backward : Je commence avec tout puis j'enlève des variables. Suppression de 'legth' car invalid results -> Perfect separation detected, results not available\n",
    "\n",
    "reg_log2 = smf.glm('is_genuine ~ diagonal + height_left + height_right + margin_low + margin_up', data=obsv_vf, family=sm.families.Binomial()).fit()\n",
    "print(reg_log2.summary())"
   ]
  },
  {
   "cell_type": "markdown",
   "metadata": {},
   "source": [
    "### 2) Prédictions <a class=\"anchor\" id=\"section_5_2\"></a> "
   ]
  },
  {
   "cell_type": "code",
   "execution_count": 66,
   "metadata": {},
   "outputs": [],
   "source": [
    "# Données test sans la variable binaire \n",
    "XTest = test.drop([\"is_genuine\"], axis=1)\n",
    "YTest = test[\"is_genuine\"]\n",
    "\n",
    "# Données d'observation sans la variable binaire \n",
    "Xobsv_vf = obsv_vf.drop([\"is_genuine\"], axis=1)\n",
    "Yobsv_vf = obsv_vf[\"is_genuine\"]\n",
    "\n",
    "# Calcul de la prédiction sur l'échantillon test\n",
    "predProbaSm = reg_log2.predict(XTest)"
   ]
  },
  {
   "cell_type": "code",
   "execution_count": 67,
   "metadata": {},
   "outputs": [
    {
     "name": "stdout",
     "output_type": "stream",
     "text": [
      "(array([0, 1]), array([12, 22]))\n"
     ]
    }
   ],
   "source": [
    "# Convertir en prédiction brute\n",
    "predSm = np.where(predProbaSm > 0.5, 1, 0)\n",
    "print(np.unique(predSm,return_counts=True))"
   ]
  },
  {
   "cell_type": "code",
   "execution_count": 68,
   "metadata": {},
   "outputs": [
    {
     "data": {
      "text/html": [
       "<div>\n",
       "<style scoped>\n",
       "    .dataframe tbody tr th:only-of-type {\n",
       "        vertical-align: middle;\n",
       "    }\n",
       "\n",
       "    .dataframe tbody tr th {\n",
       "        vertical-align: top;\n",
       "    }\n",
       "\n",
       "    .dataframe thead th {\n",
       "        text-align: right;\n",
       "    }\n",
       "</style>\n",
       "<table border=\"1\" class=\"dataframe\">\n",
       "  <thead>\n",
       "    <tr style=\"text-align: right;\">\n",
       "      <th></th>\n",
       "      <th>diagonal</th>\n",
       "      <th>height_left</th>\n",
       "      <th>height_right</th>\n",
       "      <th>margin_low</th>\n",
       "      <th>margin_up</th>\n",
       "      <th>length</th>\n",
       "      <th>predict</th>\n",
       "      <th>probabilité predict</th>\n",
       "    </tr>\n",
       "  </thead>\n",
       "  <tbody>\n",
       "    <tr>\n",
       "      <th>139</th>\n",
       "      <td>171.60</td>\n",
       "      <td>104.37</td>\n",
       "      <td>104.20</td>\n",
       "      <td>5.82</td>\n",
       "      <td>3.08</td>\n",
       "      <td>112.84</td>\n",
       "      <td>0</td>\n",
       "      <td>2.726214e-10</td>\n",
       "    </tr>\n",
       "    <tr>\n",
       "      <th>30</th>\n",
       "      <td>172.19</td>\n",
       "      <td>104.05</td>\n",
       "      <td>103.81</td>\n",
       "      <td>3.90</td>\n",
       "      <td>3.22</td>\n",
       "      <td>113.52</td>\n",
       "      <td>1</td>\n",
       "      <td>9.999920e-01</td>\n",
       "    </tr>\n",
       "    <tr>\n",
       "      <th>119</th>\n",
       "      <td>171.51</td>\n",
       "      <td>104.13</td>\n",
       "      <td>103.90</td>\n",
       "      <td>4.99</td>\n",
       "      <td>3.60</td>\n",
       "      <td>111.23</td>\n",
       "      <td>0</td>\n",
       "      <td>3.474460e-11</td>\n",
       "    </tr>\n",
       "    <tr>\n",
       "      <th>29</th>\n",
       "      <td>171.84</td>\n",
       "      <td>103.75</td>\n",
       "      <td>103.38</td>\n",
       "      <td>4.08</td>\n",
       "      <td>2.70</td>\n",
       "      <td>113.72</td>\n",
       "      <td>1</td>\n",
       "      <td>1.000000e+00</td>\n",
       "    </tr>\n",
       "    <tr>\n",
       "      <th>144</th>\n",
       "      <td>171.56</td>\n",
       "      <td>103.80</td>\n",
       "      <td>103.87</td>\n",
       "      <td>5.66</td>\n",
       "      <td>2.98</td>\n",
       "      <td>112.95</td>\n",
       "      <td>0</td>\n",
       "      <td>3.668973e-08</td>\n",
       "    </tr>\n",
       "    <tr>\n",
       "      <th>163</th>\n",
       "      <td>171.78</td>\n",
       "      <td>104.07</td>\n",
       "      <td>104.16</td>\n",
       "      <td>5.77</td>\n",
       "      <td>3.30</td>\n",
       "      <td>111.27</td>\n",
       "      <td>0</td>\n",
       "      <td>1.494834e-14</td>\n",
       "    </tr>\n",
       "    <tr>\n",
       "      <th>166</th>\n",
       "      <td>173.01</td>\n",
       "      <td>104.59</td>\n",
       "      <td>104.31</td>\n",
       "      <td>5.04</td>\n",
       "      <td>3.05</td>\n",
       "      <td>110.91</td>\n",
       "      <td>0</td>\n",
       "      <td>4.024014e-04</td>\n",
       "    </tr>\n",
       "    <tr>\n",
       "      <th>51</th>\n",
       "      <td>172.22</td>\n",
       "      <td>104.48</td>\n",
       "      <td>104.06</td>\n",
       "      <td>4.59</td>\n",
       "      <td>2.91</td>\n",
       "      <td>112.82</td>\n",
       "      <td>1</td>\n",
       "      <td>9.999691e-01</td>\n",
       "    </tr>\n",
       "    <tr>\n",
       "      <th>105</th>\n",
       "      <td>171.99</td>\n",
       "      <td>104.18</td>\n",
       "      <td>104.20</td>\n",
       "      <td>5.26</td>\n",
       "      <td>3.23</td>\n",
       "      <td>111.83</td>\n",
       "      <td>0</td>\n",
       "      <td>1.314598e-08</td>\n",
       "    </tr>\n",
       "    <tr>\n",
       "      <th>60</th>\n",
       "      <td>172.11</td>\n",
       "      <td>103.67</td>\n",
       "      <td>103.43</td>\n",
       "      <td>4.19</td>\n",
       "      <td>2.98</td>\n",
       "      <td>113.09</td>\n",
       "      <td>1</td>\n",
       "      <td>9.999989e-01</td>\n",
       "    </tr>\n",
       "    <tr>\n",
       "      <th>15</th>\n",
       "      <td>171.60</td>\n",
       "      <td>103.85</td>\n",
       "      <td>103.91</td>\n",
       "      <td>4.56</td>\n",
       "      <td>2.56</td>\n",
       "      <td>113.27</td>\n",
       "      <td>1</td>\n",
       "      <td>1.000000e+00</td>\n",
       "    </tr>\n",
       "    <tr>\n",
       "      <th>158</th>\n",
       "      <td>171.84</td>\n",
       "      <td>104.32</td>\n",
       "      <td>104.50</td>\n",
       "      <td>6.28</td>\n",
       "      <td>3.00</td>\n",
       "      <td>111.06</td>\n",
       "      <td>0</td>\n",
       "      <td>2.881972e-14</td>\n",
       "    </tr>\n",
       "    <tr>\n",
       "      <th>135</th>\n",
       "      <td>171.86</td>\n",
       "      <td>104.12</td>\n",
       "      <td>104.10</td>\n",
       "      <td>6.01</td>\n",
       "      <td>3.34</td>\n",
       "      <td>111.91</td>\n",
       "      <td>0</td>\n",
       "      <td>2.084216e-17</td>\n",
       "    </tr>\n",
       "    <tr>\n",
       "      <th>45</th>\n",
       "      <td>171.44</td>\n",
       "      <td>103.52</td>\n",
       "      <td>103.49</td>\n",
       "      <td>4.09</td>\n",
       "      <td>3.12</td>\n",
       "      <td>113.23</td>\n",
       "      <td>1</td>\n",
       "      <td>9.999922e-01</td>\n",
       "    </tr>\n",
       "    <tr>\n",
       "      <th>68</th>\n",
       "      <td>172.05</td>\n",
       "      <td>103.72</td>\n",
       "      <td>103.81</td>\n",
       "      <td>4.21</td>\n",
       "      <td>2.97</td>\n",
       "      <td>113.61</td>\n",
       "      <td>1</td>\n",
       "      <td>9.999976e-01</td>\n",
       "    </tr>\n",
       "    <tr>\n",
       "      <th>85</th>\n",
       "      <td>172.10</td>\n",
       "      <td>103.95</td>\n",
       "      <td>103.72</td>\n",
       "      <td>4.49</td>\n",
       "      <td>3.07</td>\n",
       "      <td>113.15</td>\n",
       "      <td>1</td>\n",
       "      <td>9.895310e-01</td>\n",
       "    </tr>\n",
       "    <tr>\n",
       "      <th>24</th>\n",
       "      <td>172.13</td>\n",
       "      <td>103.76</td>\n",
       "      <td>103.85</td>\n",
       "      <td>3.65</td>\n",
       "      <td>3.24</td>\n",
       "      <td>112.92</td>\n",
       "      <td>1</td>\n",
       "      <td>9.999996e-01</td>\n",
       "    </tr>\n",
       "    <tr>\n",
       "      <th>109</th>\n",
       "      <td>172.22</td>\n",
       "      <td>104.41</td>\n",
       "      <td>104.64</td>\n",
       "      <td>5.20</td>\n",
       "      <td>3.37</td>\n",
       "      <td>112.20</td>\n",
       "      <td>0</td>\n",
       "      <td>1.042091e-10</td>\n",
       "    </tr>\n",
       "    <tr>\n",
       "      <th>75</th>\n",
       "      <td>171.35</td>\n",
       "      <td>103.70</td>\n",
       "      <td>103.43</td>\n",
       "      <td>3.71</td>\n",
       "      <td>3.22</td>\n",
       "      <td>113.28</td>\n",
       "      <td>1</td>\n",
       "      <td>1.000000e+00</td>\n",
       "    </tr>\n",
       "    <tr>\n",
       "      <th>108</th>\n",
       "      <td>172.04</td>\n",
       "      <td>104.17</td>\n",
       "      <td>103.90</td>\n",
       "      <td>5.05</td>\n",
       "      <td>3.62</td>\n",
       "      <td>111.56</td>\n",
       "      <td>0</td>\n",
       "      <td>8.208420e-13</td>\n",
       "    </tr>\n",
       "    <tr>\n",
       "      <th>19</th>\n",
       "      <td>171.75</td>\n",
       "      <td>104.16</td>\n",
       "      <td>104.00</td>\n",
       "      <td>4.19</td>\n",
       "      <td>3.03</td>\n",
       "      <td>113.55</td>\n",
       "      <td>1</td>\n",
       "      <td>9.999994e-01</td>\n",
       "    </tr>\n",
       "    <tr>\n",
       "      <th>16</th>\n",
       "      <td>171.69</td>\n",
       "      <td>103.90</td>\n",
       "      <td>104.13</td>\n",
       "      <td>4.07</td>\n",
       "      <td>2.92</td>\n",
       "      <td>113.52</td>\n",
       "      <td>1</td>\n",
       "      <td>1.000000e+00</td>\n",
       "    </tr>\n",
       "    <tr>\n",
       "      <th>31</th>\n",
       "      <td>171.82</td>\n",
       "      <td>103.77</td>\n",
       "      <td>103.79</td>\n",
       "      <td>4.36</td>\n",
       "      <td>2.77</td>\n",
       "      <td>113.79</td>\n",
       "      <td>1</td>\n",
       "      <td>1.000000e+00</td>\n",
       "    </tr>\n",
       "    <tr>\n",
       "      <th>18</th>\n",
       "      <td>172.15</td>\n",
       "      <td>103.65</td>\n",
       "      <td>103.66</td>\n",
       "      <td>3.60</td>\n",
       "      <td>3.50</td>\n",
       "      <td>113.24</td>\n",
       "      <td>1</td>\n",
       "      <td>9.963356e-01</td>\n",
       "    </tr>\n",
       "    <tr>\n",
       "      <th>12</th>\n",
       "      <td>172.19</td>\n",
       "      <td>104.61</td>\n",
       "      <td>103.69</td>\n",
       "      <td>4.00</td>\n",
       "      <td>3.26</td>\n",
       "      <td>112.91</td>\n",
       "      <td>1</td>\n",
       "      <td>9.999937e-01</td>\n",
       "    </tr>\n",
       "    <tr>\n",
       "      <th>9</th>\n",
       "      <td>172.14</td>\n",
       "      <td>104.34</td>\n",
       "      <td>104.20</td>\n",
       "      <td>4.63</td>\n",
       "      <td>3.02</td>\n",
       "      <td>112.47</td>\n",
       "      <td>1</td>\n",
       "      <td>9.855170e-01</td>\n",
       "    </tr>\n",
       "    <tr>\n",
       "      <th>82</th>\n",
       "      <td>172.17</td>\n",
       "      <td>103.75</td>\n",
       "      <td>103.29</td>\n",
       "      <td>4.43</td>\n",
       "      <td>2.88</td>\n",
       "      <td>113.38</td>\n",
       "      <td>1</td>\n",
       "      <td>9.999978e-01</td>\n",
       "    </tr>\n",
       "    <tr>\n",
       "      <th>98</th>\n",
       "      <td>172.10</td>\n",
       "      <td>103.98</td>\n",
       "      <td>103.86</td>\n",
       "      <td>4.47</td>\n",
       "      <td>3.06</td>\n",
       "      <td>113.00</td>\n",
       "      <td>1</td>\n",
       "      <td>9.940328e-01</td>\n",
       "    </tr>\n",
       "    <tr>\n",
       "      <th>76</th>\n",
       "      <td>171.92</td>\n",
       "      <td>103.93</td>\n",
       "      <td>104.06</td>\n",
       "      <td>4.38</td>\n",
       "      <td>2.97</td>\n",
       "      <td>113.01</td>\n",
       "      <td>1</td>\n",
       "      <td>9.999643e-01</td>\n",
       "    </tr>\n",
       "    <tr>\n",
       "      <th>55</th>\n",
       "      <td>172.14</td>\n",
       "      <td>103.74</td>\n",
       "      <td>103.52</td>\n",
       "      <td>4.56</td>\n",
       "      <td>2.83</td>\n",
       "      <td>113.43</td>\n",
       "      <td>1</td>\n",
       "      <td>9.999888e-01</td>\n",
       "    </tr>\n",
       "    <tr>\n",
       "      <th>42</th>\n",
       "      <td>171.88</td>\n",
       "      <td>103.66</td>\n",
       "      <td>103.52</td>\n",
       "      <td>4.66</td>\n",
       "      <td>2.75</td>\n",
       "      <td>113.25</td>\n",
       "      <td>1</td>\n",
       "      <td>9.999970e-01</td>\n",
       "    </tr>\n",
       "    <tr>\n",
       "      <th>56</th>\n",
       "      <td>172.53</td>\n",
       "      <td>103.99</td>\n",
       "      <td>103.55</td>\n",
       "      <td>4.50</td>\n",
       "      <td>3.10</td>\n",
       "      <td>113.03</td>\n",
       "      <td>1</td>\n",
       "      <td>9.184166e-01</td>\n",
       "    </tr>\n",
       "    <tr>\n",
       "      <th>150</th>\n",
       "      <td>171.95</td>\n",
       "      <td>104.26</td>\n",
       "      <td>103.97</td>\n",
       "      <td>5.88</td>\n",
       "      <td>3.16</td>\n",
       "      <td>112.44</td>\n",
       "      <td>0</td>\n",
       "      <td>9.819592e-13</td>\n",
       "    </tr>\n",
       "    <tr>\n",
       "      <th>111</th>\n",
       "      <td>172.09</td>\n",
       "      <td>104.40</td>\n",
       "      <td>104.21</td>\n",
       "      <td>5.28</td>\n",
       "      <td>3.41</td>\n",
       "      <td>112.11</td>\n",
       "      <td>0</td>\n",
       "      <td>2.306720e-11</td>\n",
       "    </tr>\n",
       "  </tbody>\n",
       "</table>\n",
       "</div>"
      ],
      "text/plain": [
       "     diagonal  height_left  height_right  margin_low  margin_up  length  \\\n",
       "139    171.60       104.37        104.20        5.82       3.08  112.84   \n",
       "30     172.19       104.05        103.81        3.90       3.22  113.52   \n",
       "119    171.51       104.13        103.90        4.99       3.60  111.23   \n",
       "29     171.84       103.75        103.38        4.08       2.70  113.72   \n",
       "144    171.56       103.80        103.87        5.66       2.98  112.95   \n",
       "163    171.78       104.07        104.16        5.77       3.30  111.27   \n",
       "166    173.01       104.59        104.31        5.04       3.05  110.91   \n",
       "51     172.22       104.48        104.06        4.59       2.91  112.82   \n",
       "105    171.99       104.18        104.20        5.26       3.23  111.83   \n",
       "60     172.11       103.67        103.43        4.19       2.98  113.09   \n",
       "15     171.60       103.85        103.91        4.56       2.56  113.27   \n",
       "158    171.84       104.32        104.50        6.28       3.00  111.06   \n",
       "135    171.86       104.12        104.10        6.01       3.34  111.91   \n",
       "45     171.44       103.52        103.49        4.09       3.12  113.23   \n",
       "68     172.05       103.72        103.81        4.21       2.97  113.61   \n",
       "85     172.10       103.95        103.72        4.49       3.07  113.15   \n",
       "24     172.13       103.76        103.85        3.65       3.24  112.92   \n",
       "109    172.22       104.41        104.64        5.20       3.37  112.20   \n",
       "75     171.35       103.70        103.43        3.71       3.22  113.28   \n",
       "108    172.04       104.17        103.90        5.05       3.62  111.56   \n",
       "19     171.75       104.16        104.00        4.19       3.03  113.55   \n",
       "16     171.69       103.90        104.13        4.07       2.92  113.52   \n",
       "31     171.82       103.77        103.79        4.36       2.77  113.79   \n",
       "18     172.15       103.65        103.66        3.60       3.50  113.24   \n",
       "12     172.19       104.61        103.69        4.00       3.26  112.91   \n",
       "9      172.14       104.34        104.20        4.63       3.02  112.47   \n",
       "82     172.17       103.75        103.29        4.43       2.88  113.38   \n",
       "98     172.10       103.98        103.86        4.47       3.06  113.00   \n",
       "76     171.92       103.93        104.06        4.38       2.97  113.01   \n",
       "55     172.14       103.74        103.52        4.56       2.83  113.43   \n",
       "42     171.88       103.66        103.52        4.66       2.75  113.25   \n",
       "56     172.53       103.99        103.55        4.50       3.10  113.03   \n",
       "150    171.95       104.26        103.97        5.88       3.16  112.44   \n",
       "111    172.09       104.40        104.21        5.28       3.41  112.11   \n",
       "\n",
       "     predict  probabilité predict  \n",
       "139        0         2.726214e-10  \n",
       "30         1         9.999920e-01  \n",
       "119        0         3.474460e-11  \n",
       "29         1         1.000000e+00  \n",
       "144        0         3.668973e-08  \n",
       "163        0         1.494834e-14  \n",
       "166        0         4.024014e-04  \n",
       "51         1         9.999691e-01  \n",
       "105        0         1.314598e-08  \n",
       "60         1         9.999989e-01  \n",
       "15         1         1.000000e+00  \n",
       "158        0         2.881972e-14  \n",
       "135        0         2.084216e-17  \n",
       "45         1         9.999922e-01  \n",
       "68         1         9.999976e-01  \n",
       "85         1         9.895310e-01  \n",
       "24         1         9.999996e-01  \n",
       "109        0         1.042091e-10  \n",
       "75         1         1.000000e+00  \n",
       "108        0         8.208420e-13  \n",
       "19         1         9.999994e-01  \n",
       "16         1         1.000000e+00  \n",
       "31         1         1.000000e+00  \n",
       "18         1         9.963356e-01  \n",
       "12         1         9.999937e-01  \n",
       "9          1         9.855170e-01  \n",
       "82         1         9.999978e-01  \n",
       "98         1         9.940328e-01  \n",
       "76         1         9.999643e-01  \n",
       "55         1         9.999888e-01  \n",
       "42         1         9.999970e-01  \n",
       "56         1         9.184166e-01  \n",
       "150        0         9.819592e-13  \n",
       "111        0         2.306720e-11  "
      ]
     },
     "execution_count": 68,
     "metadata": {},
     "output_type": "execute_result"
    }
   ],
   "source": [
    "# Ajout de la colonne prediction\n",
    "XTest['predict'] = predSm \n",
    "XTest['probabilité predict'] = predProbaSm\n",
    "XTest"
   ]
  },
  {
   "cell_type": "code",
   "execution_count": 79,
   "metadata": {},
   "outputs": [
    {
     "name": "stdout",
     "output_type": "stream",
     "text": [
      "col_0        0   1\n",
      "is_genuine        \n",
      "0           12   0\n",
      "1            0  22\n"
     ]
    }
   ],
   "source": [
    "# Matrice de confusion\n",
    "mcSm = pd.crosstab(YTest,predSm)\n",
    "print(mcSm)\n"
   ]
  },
  {
   "cell_type": "markdown",
   "metadata": {},
   "source": [
    "100% de prédictions justes. On ne peut pas dire que le modèle est parfait mais juste que l'échantillon est peut-être trop petit.\n"
   ]
  },
  {
   "cell_type": "code",
   "execution_count": 87,
   "metadata": {},
   "outputs": [],
   "source": [
    "VN = mcSm[0].values[0]\n",
    "FN = mcSm[0].values[1]\n",
    "FP = mcSm[1].values[0]\n",
    "VP = mcSm[1].values[1]\n"
   ]
  },
  {
   "cell_type": "markdown",
   "metadata": {},
   "source": [
    "Vrai négatif (VN) Faux positif (FP)  \n",
    "Faux négatif (FN) Vrai positif (VP)"
   ]
  },
  {
   "cell_type": "code",
   "execution_count": 88,
   "metadata": {},
   "outputs": [
    {
     "data": {
      "text/plain": [
       "1.0"
      ]
     },
     "execution_count": 88,
     "metadata": {},
     "output_type": "execute_result"
    }
   ],
   "source": [
    "# La sensibilité, le taux de positifs classés positifs, vaut : VP / (VP + FN)\n",
    "\n",
    "sens = VP / (VP + FN)\n",
    "sens"
   ]
  },
  {
   "cell_type": "code",
   "execution_count": 89,
   "metadata": {},
   "outputs": [
    {
     "data": {
      "text/plain": [
       "1.0"
      ]
     },
     "execution_count": 89,
     "metadata": {},
     "output_type": "execute_result"
    }
   ],
   "source": [
    "# La spécificité, le taux de négatifs classés négatifs, vaut : VN / (FP + VN)\n",
    "\n",
    "spéc = VN / (FP + VN)\n",
    "spéc"
   ]
  },
  {
   "cell_type": "code",
   "execution_count": 90,
   "metadata": {},
   "outputs": [
    {
     "name": "stdout",
     "output_type": "stream",
     "text": [
      "Taux de reconnaissance : 1.0000\n",
      "Taux d'erreur' : 0.0000\n"
     ]
    }
   ],
   "source": [
    "#transformer en matrice Numpy\n",
    "mcSmNumpy = mcSm.values\n",
    "\n",
    "#taux de reconnaissance\n",
    "accSm = np.sum(np.diagonal(mcSmNumpy))/np.sum(mcSmNumpy)\n",
    "print(\"Taux de reconnaissance : %.4f\" % (accSm))\n",
    "\n",
    "#taux d'erreur\n",
    "errSm = 1.0 - accSm\n",
    "print(\"Taux d'erreur' : %.4f\" % (errSm))"
   ]
  },
  {
   "cell_type": "code",
   "execution_count": 91,
   "metadata": {},
   "outputs": [
    {
     "name": "stdout",
     "output_type": "stream",
     "text": [
      "              precision    recall  f1-score   support\n",
      "\n",
      "           0       1.00      1.00      1.00        12\n",
      "           1       1.00      1.00      1.00        22\n",
      "\n",
      "    accuracy                           1.00        34\n",
      "   macro avg       1.00      1.00      1.00        34\n",
      "weighted avg       1.00      1.00      1.00        34\n",
      "\n"
     ]
    }
   ],
   "source": [
    "# Rapport sur la qualité de prédiction\n",
    "print(metrics.classification_report(YTest,predSm))"
   ]
  },
  {
   "cell_type": "markdown",
   "metadata": {},
   "source": [
    "### 3) Programme <a class=\"anchor\" id=\"section_5_3\"></a> "
   ]
  },
  {
   "cell_type": "code",
   "execution_count": 92,
   "metadata": {},
   "outputs": [
    {
     "data": {
      "text/html": [
       "<div>\n",
       "<style scoped>\n",
       "    .dataframe tbody tr th:only-of-type {\n",
       "        vertical-align: middle;\n",
       "    }\n",
       "\n",
       "    .dataframe tbody tr th {\n",
       "        vertical-align: top;\n",
       "    }\n",
       "\n",
       "    .dataframe thead th {\n",
       "        text-align: right;\n",
       "    }\n",
       "</style>\n",
       "<table border=\"1\" class=\"dataframe\">\n",
       "  <thead>\n",
       "    <tr style=\"text-align: right;\">\n",
       "      <th></th>\n",
       "      <th>diagonal</th>\n",
       "      <th>height_left</th>\n",
       "      <th>height_right</th>\n",
       "      <th>margin_low</th>\n",
       "      <th>margin_up</th>\n",
       "      <th>length</th>\n",
       "      <th>id</th>\n",
       "    </tr>\n",
       "  </thead>\n",
       "  <tbody>\n",
       "    <tr>\n",
       "      <th>0</th>\n",
       "      <td>171.76</td>\n",
       "      <td>104.01</td>\n",
       "      <td>103.54</td>\n",
       "      <td>5.21</td>\n",
       "      <td>3.30</td>\n",
       "      <td>111.42</td>\n",
       "      <td>A_1</td>\n",
       "    </tr>\n",
       "    <tr>\n",
       "      <th>1</th>\n",
       "      <td>171.87</td>\n",
       "      <td>104.17</td>\n",
       "      <td>104.13</td>\n",
       "      <td>6.00</td>\n",
       "      <td>3.31</td>\n",
       "      <td>112.09</td>\n",
       "      <td>A_2</td>\n",
       "    </tr>\n",
       "    <tr>\n",
       "      <th>2</th>\n",
       "      <td>172.00</td>\n",
       "      <td>104.58</td>\n",
       "      <td>104.29</td>\n",
       "      <td>4.99</td>\n",
       "      <td>3.39</td>\n",
       "      <td>111.57</td>\n",
       "      <td>A_3</td>\n",
       "    </tr>\n",
       "    <tr>\n",
       "      <th>3</th>\n",
       "      <td>172.49</td>\n",
       "      <td>104.55</td>\n",
       "      <td>104.34</td>\n",
       "      <td>4.44</td>\n",
       "      <td>3.03</td>\n",
       "      <td>113.20</td>\n",
       "      <td>A_4</td>\n",
       "    </tr>\n",
       "    <tr>\n",
       "      <th>4</th>\n",
       "      <td>171.65</td>\n",
       "      <td>103.63</td>\n",
       "      <td>103.56</td>\n",
       "      <td>3.77</td>\n",
       "      <td>3.16</td>\n",
       "      <td>113.33</td>\n",
       "      <td>A_5</td>\n",
       "    </tr>\n",
       "  </tbody>\n",
       "</table>\n",
       "</div>"
      ],
      "text/plain": [
       "   diagonal  height_left  height_right  margin_low  margin_up  length   id\n",
       "0    171.76       104.01        103.54        5.21       3.30  111.42  A_1\n",
       "1    171.87       104.17        104.13        6.00       3.31  112.09  A_2\n",
       "2    172.00       104.58        104.29        4.99       3.39  111.57  A_3\n",
       "3    172.49       104.55        104.34        4.44       3.03  113.20  A_4\n",
       "4    171.65       103.63        103.56        3.77       3.16  113.33  A_5"
      ]
     },
     "execution_count": 92,
     "metadata": {},
     "output_type": "execute_result"
    }
   ],
   "source": [
    "test = pd.read_csv(\"example.csv\")\n",
    "obsv_vf = pd.read_csv(\"notes.csv\")\n",
    "obsv_vf[\"is_genuine\"] = obsv_vf[\"is_genuine\"].astype(int)\n",
    "test"
   ]
  },
  {
   "cell_type": "code",
   "execution_count": 96,
   "metadata": {},
   "outputs": [
    {
     "data": {
      "text/html": [
       "<div>\n",
       "<style scoped>\n",
       "    .dataframe tbody tr th:only-of-type {\n",
       "        vertical-align: middle;\n",
       "    }\n",
       "\n",
       "    .dataframe tbody tr th {\n",
       "        vertical-align: top;\n",
       "    }\n",
       "\n",
       "    .dataframe thead th {\n",
       "        text-align: right;\n",
       "    }\n",
       "</style>\n",
       "<table border=\"1\" class=\"dataframe\">\n",
       "  <thead>\n",
       "    <tr style=\"text-align: right;\">\n",
       "      <th></th>\n",
       "      <th>diagonal</th>\n",
       "      <th>height_left</th>\n",
       "      <th>height_right</th>\n",
       "      <th>margin_low</th>\n",
       "      <th>margin_up</th>\n",
       "      <th>length</th>\n",
       "      <th>predict</th>\n",
       "      <th>probabilité predict</th>\n",
       "      <th>id</th>\n",
       "    </tr>\n",
       "  </thead>\n",
       "  <tbody>\n",
       "    <tr>\n",
       "      <th>0</th>\n",
       "      <td>171.76</td>\n",
       "      <td>104.01</td>\n",
       "      <td>103.54</td>\n",
       "      <td>5.21</td>\n",
       "      <td>3.30</td>\n",
       "      <td>111.42</td>\n",
       "      <td>0</td>\n",
       "      <td>1.041220e-08</td>\n",
       "      <td>A_1</td>\n",
       "    </tr>\n",
       "    <tr>\n",
       "      <th>1</th>\n",
       "      <td>171.87</td>\n",
       "      <td>104.17</td>\n",
       "      <td>104.13</td>\n",
       "      <td>6.00</td>\n",
       "      <td>3.31</td>\n",
       "      <td>112.09</td>\n",
       "      <td>0</td>\n",
       "      <td>2.136780e-17</td>\n",
       "      <td>A_2</td>\n",
       "    </tr>\n",
       "    <tr>\n",
       "      <th>2</th>\n",
       "      <td>172.00</td>\n",
       "      <td>104.58</td>\n",
       "      <td>104.29</td>\n",
       "      <td>4.99</td>\n",
       "      <td>3.39</td>\n",
       "      <td>111.57</td>\n",
       "      <td>0</td>\n",
       "      <td>4.354355e-08</td>\n",
       "      <td>A_3</td>\n",
       "    </tr>\n",
       "    <tr>\n",
       "      <th>3</th>\n",
       "      <td>172.49</td>\n",
       "      <td>104.55</td>\n",
       "      <td>104.34</td>\n",
       "      <td>4.44</td>\n",
       "      <td>3.03</td>\n",
       "      <td>113.20</td>\n",
       "      <td>1</td>\n",
       "      <td>9.997065e-01</td>\n",
       "      <td>A_4</td>\n",
       "    </tr>\n",
       "    <tr>\n",
       "      <th>4</th>\n",
       "      <td>171.65</td>\n",
       "      <td>103.63</td>\n",
       "      <td>103.56</td>\n",
       "      <td>3.77</td>\n",
       "      <td>3.16</td>\n",
       "      <td>113.33</td>\n",
       "      <td>1</td>\n",
       "      <td>1.000000e+00</td>\n",
       "      <td>A_5</td>\n",
       "    </tr>\n",
       "  </tbody>\n",
       "</table>\n",
       "</div>"
      ],
      "text/plain": [
       "   diagonal  height_left  height_right  margin_low  margin_up  length  \\\n",
       "0    171.76       104.01        103.54        5.21       3.30  111.42   \n",
       "1    171.87       104.17        104.13        6.00       3.31  112.09   \n",
       "2    172.00       104.58        104.29        4.99       3.39  111.57   \n",
       "3    172.49       104.55        104.34        4.44       3.03  113.20   \n",
       "4    171.65       103.63        103.56        3.77       3.16  113.33   \n",
       "\n",
       "   predict  probabilité predict   id  \n",
       "0        0         1.041220e-08  A_1  \n",
       "1        0         2.136780e-17  A_2  \n",
       "2        0         4.354355e-08  A_3  \n",
       "3        1         9.997065e-01  A_4  \n",
       "4        1         1.000000e+00  A_5  "
      ]
     },
     "execution_count": 96,
     "metadata": {},
     "output_type": "execute_result"
    }
   ],
   "source": [
    "# Methode backward : Je commence avec tout puis j'enlève des variables. Suppression de 'legth' car invalid results -> Perfect separation detected, results not available\n",
    "reg_log2 = smf.glm('is_genuine ~ diagonal + height_left + height_right + margin_low + margin_up', data=obsv_vf, family=sm.families.Binomial()).fit()\n",
    "\n",
    "# Données test sans la variable binaire \n",
    "id = test['id']\n",
    "XTest = test.drop([\"id\"], axis=1)\n",
    "\n",
    "# Données d'observation sans la variable binaire \n",
    "Xobsv_vf = obsv_vf.drop([\"is_genuine\"], axis=1)\n",
    "\n",
    "# Calcul de la prédiction sur l'échantillon test\n",
    "predProbaSm = reg_log2.predict(XTest)\n",
    "\n",
    "# Convertir en prédiction brute\n",
    "predSm = np.where(predProbaSm > 0.5, 1, 0)\n",
    "\n",
    "# Ajout de la colonne prediction\n",
    "XTest['predict'] = predSm \n",
    "XTest['probabilité predict'] = predProbaSm\n",
    "XTest['id'] = id\n",
    "XTest"
   ]
  },
  {
   "cell_type": "code",
   "execution_count": null,
   "metadata": {},
   "outputs": [],
   "source": []
  }
 ],
 "metadata": {
  "kernelspec": {
   "display_name": "Python 3",
   "language": "python",
   "name": "python3"
  },
  "language_info": {
   "codemirror_mode": {
    "name": "ipython",
    "version": 3
   },
   "file_extension": ".py",
   "mimetype": "text/x-python",
   "name": "python",
   "nbconvert_exporter": "python",
   "pygments_lexer": "ipython3",
   "version": "3.7.6"
  }
 },
 "nbformat": 4,
 "nbformat_minor": 4
}
